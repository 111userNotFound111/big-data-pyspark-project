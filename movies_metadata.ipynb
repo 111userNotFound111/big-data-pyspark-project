{
 "cells": [
  {
   "cell_type": "code",
   "execution_count": 1,
   "id": "c786eea5-c868-4868-a6c3-288459e7207c",
   "metadata": {},
   "outputs": [],
   "source": [
    "import pyspark\n",
    "import re\n",
    "import pandas as pd"
   ]
  },
  {
   "cell_type": "code",
   "execution_count": 2,
   "id": "a092ad95-4aca-4491-990e-8d29a0f7fd25",
   "metadata": {},
   "outputs": [],
   "source": [
    "from pyspark.sql import SparkSession\n",
    "from pyspark.sql.functions import explode, from_json, col\n",
    "from pyspark.sql.types import ArrayType, StructType, StructField, StringType, IntegerType"
   ]
  },
  {
   "cell_type": "code",
   "execution_count": 3,
   "id": "d0ef0032-a169-414c-96af-535f14e60e9a",
   "metadata": {},
   "outputs": [
    {
     "name": "stdout",
     "output_type": "stream",
     "text": [
      ":: loading settings :: url = jar:file:/opt/spark/jars/ivy-2.5.1.jar!/org/apache/ivy/core/settings/ivysettings.xml\n"
     ]
    },
    {
     "name": "stderr",
     "output_type": "stream",
     "text": [
      "Ivy Default Cache set to: /Users/ray/.ivy2/cache\n",
      "The jars for the packages stored in: /Users/ray/.ivy2/jars\n",
      "com.crealytics#spark-excel_2.12 added as a dependency\n",
      ":: resolving dependencies :: org.apache.spark#spark-submit-parent-8e7dd231-4158-428b-b3f3-e0db9594d8c5;1.0\n",
      "\tconfs: [default]\n",
      "\tfound com.crealytics#spark-excel_2.12;3.2.2_0.18.0 in central\n",
      "\tfound org.apache.poi#poi;5.2.2 in central\n",
      "\tfound commons-codec#commons-codec;1.15 in central\n",
      "\tfound org.apache.commons#commons-collections4;4.4 in central\n",
      "\tfound org.apache.commons#commons-math3;3.6.1 in central\n",
      "\tfound commons-io#commons-io;2.11.0 in central\n",
      "\tfound com.zaxxer#SparseBitSet;1.2 in central\n",
      "\tfound org.apache.logging.log4j#log4j-api;2.17.2 in central\n",
      "\tfound org.apache.poi#poi-ooxml;5.2.2 in central\n",
      "\tfound org.apache.poi#poi-ooxml-lite;5.2.2 in central\n",
      "\tfound org.apache.xmlbeans#xmlbeans;5.0.3 in central\n",
      "\tfound org.apache.commons#commons-compress;1.21 in central\n",
      "\tfound com.github.virtuald#curvesapi;1.07 in central\n",
      "\tfound com.norbitltd#spoiwo_2.12;2.2.1 in central\n",
      "\tfound com.github.tototoshi#scala-csv_2.12;1.3.10 in central\n",
      "\tfound com.github.pjfanning#excel-streaming-reader;4.0.1 in central\n",
      "\tfound com.github.pjfanning#poi-shared-strings;2.5.3 in central\n",
      "\tfound org.slf4j#slf4j-api;1.7.36 in central\n",
      "\tfound com.h2database#h2;2.1.212 in central\n",
      "\tfound org.apache.commons#commons-text;1.9 in central\n",
      "\tfound org.apache.commons#commons-lang3;3.11 in central\n",
      "\tfound org.scala-lang.modules#scala-collection-compat_2.12;2.8.1 in central\n",
      ":: resolution report :: resolve 1403ms :: artifacts dl 36ms\n",
      "\t:: modules in use:\n",
      "\tcom.crealytics#spark-excel_2.12;3.2.2_0.18.0 from central in [default]\n",
      "\tcom.github.pjfanning#excel-streaming-reader;4.0.1 from central in [default]\n",
      "\tcom.github.pjfanning#poi-shared-strings;2.5.3 from central in [default]\n",
      "\tcom.github.tototoshi#scala-csv_2.12;1.3.10 from central in [default]\n",
      "\tcom.github.virtuald#curvesapi;1.07 from central in [default]\n",
      "\tcom.h2database#h2;2.1.212 from central in [default]\n",
      "\tcom.norbitltd#spoiwo_2.12;2.2.1 from central in [default]\n",
      "\tcom.zaxxer#SparseBitSet;1.2 from central in [default]\n",
      "\tcommons-codec#commons-codec;1.15 from central in [default]\n",
      "\tcommons-io#commons-io;2.11.0 from central in [default]\n",
      "\torg.apache.commons#commons-collections4;4.4 from central in [default]\n",
      "\torg.apache.commons#commons-compress;1.21 from central in [default]\n",
      "\torg.apache.commons#commons-lang3;3.11 from central in [default]\n",
      "\torg.apache.commons#commons-math3;3.6.1 from central in [default]\n",
      "\torg.apache.commons#commons-text;1.9 from central in [default]\n",
      "\torg.apache.logging.log4j#log4j-api;2.17.2 from central in [default]\n",
      "\torg.apache.poi#poi;5.2.2 from central in [default]\n",
      "\torg.apache.poi#poi-ooxml;5.2.2 from central in [default]\n",
      "\torg.apache.poi#poi-ooxml-lite;5.2.2 from central in [default]\n",
      "\torg.apache.xmlbeans#xmlbeans;5.0.3 from central in [default]\n",
      "\torg.scala-lang.modules#scala-collection-compat_2.12;2.8.1 from central in [default]\n",
      "\torg.slf4j#slf4j-api;1.7.36 from central in [default]\n",
      "\t:: evicted modules:\n",
      "\torg.apache.logging.log4j#log4j-api;2.17.1 by [org.apache.logging.log4j#log4j-api;2.17.2] in [default]\n",
      "\torg.apache.poi#poi;5.2.1 by [org.apache.poi#poi;5.2.2] in [default]\n",
      "\torg.apache.poi#poi-ooxml;5.2.1 by [org.apache.poi#poi-ooxml;5.2.2] in [default]\n",
      "\t---------------------------------------------------------------------\n",
      "\t|                  |            modules            ||   artifacts   |\n",
      "\t|       conf       | number| search|dwnlded|evicted|| number|dwnlded|\n",
      "\t---------------------------------------------------------------------\n",
      "\t|      default     |   25  |   0   |   0   |   3   ||   22  |   0   |\n",
      "\t---------------------------------------------------------------------\n",
      ":: retrieving :: org.apache.spark#spark-submit-parent-8e7dd231-4158-428b-b3f3-e0db9594d8c5\n",
      "\tconfs: [default]\n",
      "\t0 artifacts copied, 22 already retrieved (0kB/22ms)\n",
      "23/09/05 15:51:27 WARN NativeCodeLoader: Unable to load native-hadoop library for your platform... using builtin-java classes where applicable\n",
      "Setting default log level to \"WARN\".\n",
      "To adjust logging level use sc.setLogLevel(newLevel). For SparkR, use setLogLevel(newLevel).\n"
     ]
    }
   ],
   "source": [
    "spark = SparkSession \\\n",
    "    .builder \\\n",
    "    .appName(\"Spark_data_clean\") \\\n",
    "    .config(\"spark.master\", \"spark://rayiMac.modem:7077\") \\\n",
    "    .config(\"spark.jars.packages\", \"com.crealytics:spark-excel_2.12:3.2.2_0.18.0\") \\\n",
    "    .config(\"spark.executor.cores\", \"1\") \\\n",
    "    .config(\"spark.executor.num\", \"1\") \\\n",
    "    .getOrCreate()"
   ]
  },
  {
   "cell_type": "code",
   "execution_count": 4,
   "id": "54e903c3-cbec-49e8-af7f-99c049d875bf",
   "metadata": {},
   "outputs": [
    {
     "name": "stderr",
     "output_type": "stream",
     "text": [
      "                                                                                \r"
     ]
    }
   ],
   "source": [
    "# load csv file into dataframe\n",
    "df_metadata = spark.read.csv(\"movies_metadata.csv\", header=True)"
   ]
  },
  {
   "cell_type": "code",
   "execution_count": 5,
   "id": "02533a15-4cb9-4976-87fd-0a097488380f",
   "metadata": {},
   "outputs": [
    {
     "data": {
      "text/plain": [
       "DataFrame[adult: string, belongs_to_collection: string, budget: string, genres: string, homepage: string, id: string, imdb_id: string, original_language: string, original_title: string, overview: string, popularity: string, poster_path: string, production_companies: string, production_countries: string, release_date: string, revenue: string, runtime: string, spoken_languages: string, status: string, tagline: string, title: string, video: string, vote_average: string, vote_count: string]"
      ]
     },
     "execution_count": 5,
     "metadata": {},
     "output_type": "execute_result"
    }
   ],
   "source": [
    "# cache dataframe for further processing\n",
    "df_metadata.cache()"
   ]
  },
  {
   "cell_type": "markdown",
   "id": "fa7f974c-b970-4a45-b8a3-decf6acea1d3",
   "metadata": {},
   "source": [
    "## Functions "
   ]
  },
  {
   "cell_type": "code",
   "execution_count": 6,
   "id": "8d51d529-4a79-43b4-b273-bab369aab784",
   "metadata": {},
   "outputs": [],
   "source": [
    "def transformation(input_df, input_key, col_name, col_alias, input_schema):\n",
    "    col_name = str(col_name)\n",
    "    col_alias = str(col_alias)\n",
    "    primary_key = str(input_key)\n",
    "    # select col_name in file, import column as json format and apply complex schema to column \n",
    "    input_df = input_df.withColumn(col_name, from_json(col(col_name), input_schema))\n",
    "    # explode the column with primary key, rename the exploded result\n",
    "    df_exploded = input_df.select(primary_key, explode(col(col_name)).alias(col_alias))\n",
    "    return df_exploded"
   ]
  },
  {
   "cell_type": "markdown",
   "id": "2c11d05c-be66-44ba-be02-5312b60d3100",
   "metadata": {},
   "source": [
    "## For Collection Column "
   ]
  },
  {
   "cell_type": "code",
   "execution_count": 7,
   "id": "699cb591-15d0-41c2-a8ea-5a223dfebf94",
   "metadata": {},
   "outputs": [],
   "source": [
    "# belongs to collection column\n",
    "collection_schema = ArrayType(\n",
    "    StructType([\n",
    "        StructField(\"id\",StringType(), True),\n",
    "        StructField(\"name\",StringType(), True),\n",
    "        StructField(\"poster_path\",StringType(), True),\n",
    "        StructField(\"backdrop_path\",StringType(), True),\n",
    "    ])\n",
    ")"
   ]
  },
  {
   "cell_type": "code",
   "execution_count": 8,
   "id": "96e7e361-e0b0-4cab-8d61-7b5865df8688",
   "metadata": {},
   "outputs": [],
   "source": [
    "# id is the primary key used for this dataframe\n",
    "df_collection_result = transformation (df_metadata, \"id\", \"belongs_to_collection\", \"collection\", collection_schema)"
   ]
  },
  {
   "cell_type": "code",
   "execution_count": 9,
   "id": "007ce794-da16-4972-9d51-2e14edc26527",
   "metadata": {},
   "outputs": [],
   "source": [
    "df_collection_columns= df_collection_result.select(\"id\",col(\"collection.id\").alias(\"collection_id\"), col(\"collection.name\").alias(\"collection_name\"), col(\"collection.poster_path\").alias(\"collection_poster_path\"), col(\"collection.backdrop_path\").alias(\"collection_backdrop_path\"))"
   ]
  },
  {
   "cell_type": "code",
   "execution_count": 10,
   "id": "8d751263-24b1-4a90-b3d9-b316fe649031",
   "metadata": {},
   "outputs": [
    {
     "data": {
      "text/plain": [
       "DataFrame[id: string, collection_id: string, collection_name: string, collection_poster_path: string, collection_backdrop_path: string]"
      ]
     },
     "execution_count": 10,
     "metadata": {},
     "output_type": "execute_result"
    }
   ],
   "source": [
    "df_collection_columns.cache()"
   ]
  },
  {
   "cell_type": "code",
   "execution_count": 11,
   "id": "1aad24cb-e603-45a0-bffd-9df5baf90f1f",
   "metadata": {},
   "outputs": [
    {
     "name": "stderr",
     "output_type": "stream",
     "text": [
      "[Stage 1:>                                                          (0 + 1) / 1]\r"
     ]
    },
    {
     "name": "stdout",
     "output_type": "stream",
     "text": [
      "+-----+-------------+--------------------------------+--------------------------------+--------------------------------+\n",
      "|id   |collection_id|collection_name                 |collection_poster_path          |collection_backdrop_path        |\n",
      "+-----+-------------+--------------------------------+--------------------------------+--------------------------------+\n",
      "|862  |10194        |Toy Story Collection            |/7G9915LfUQ2lVfwMEEhDsn3kT4B.jpg|/9FBwqcd9IRruEDUrTdcaafOMKUq.jpg|\n",
      "|15602|119050       |Grumpy Old Men Collection       |/nLvUdqgPgm3F85NMCii9gVFUcet.jpg|/hypTnLot2z8wpFS7qwsQHW1uV8u.jpg|\n",
      "|11862|96871        |Father of the Bride Collection  |/nts4iOmNnq7GNicycMJ9pSAn204.jpg|/7qwE57OVZmMJChBpLEbJEmzUydk.jpg|\n",
      "|710  |645          |James Bond Collection           |/HORpg5CSkmeQlAolx3bKMrKgfi.jpg |/6VcVl48kNKvdXOZfJPdarlUGOsk.jpg|\n",
      "|21032|117693       |Balto Collection                |/w0ZgH6Lgxt2bQYnf1ss74UvYftm.jpg|/9VM5LiJV0bGb1st1KyHA3cVnO2G.jpg|\n",
      "|9273 |3167         |Ace Ventura Collection          |/qCxH543pScFed1CycwJ1nVgrkOc.jpg|/bswWgdDsLu0fhWMYUzLF8XgiK4h.jpg|\n",
      "|8012 |91698        |Chili Palmer Collection         |/ae3smJDdWrMJ77tDpYOrpo4frKq.jpg|/uWaANGQeoSs5vSP1CWtlkDrkqei.jpg|\n",
      "|9598 |9435         |Babe Collection                 |/jgnah0k4AumfcZE4HHMJywYHvG6.jpg|/zRWuGdIlkWqXMQcs1t3sPy1XQ6x.jpg|\n",
      "|9312 |9818         |Mortal Kombat Collection        |/nauCllomdtyciLCRcVrSJKcJQbn.jpg|/qD3efz57VGNywAN4lTvgz3FHnBb.jpg|\n",
      "|10530|136214       |Pocahontas Collection           |/s4RkDe4AjwyrlltdF6Ui7INlME6.jpg|/qqeOxNmtAW7WXdbrmQftgluvve7.jpg|\n",
      "|11525|124935       |The Lawnmower Man Collection    |/slBKrKBbL1g3KURphhAYIyOOH0G.jpg|/id05z92s8Pwc2wbR9YAKngGqOyP.jpg|\n",
      "|10634|43563        |Friday Collection               |/dWh1Fohgx07AEd4vRUwgIj8BYxD.jpg|/pXszT8ZWGj3fohU9FY0niA0IDEw.jpg|\n",
      "|755  |10924        |From Dusk Till Dawn Collection  |/a156nAy5ZTGXlO5wgfvnF26aaDB.jpg|/oIJQPVy33uxBAu9LMXwjsgHLyxP.jpg|\n",
      "|10874|256377       |The Muppet Collection           |/8Ew8EIdFFurMMYjSbWPu1Hl4vLX.jpg|/1AWd3MM90G47mxtD112gRDxSXY9.jpg|\n",
      "|27793|91430        |The Neverending Story Collection|/tXuOhgEbXoba7vVIybzGlnycoNq.jpg|/2IqXJIR1i0f6Ngq3A6rjXhQNqFc.jpg|\n",
      "|9737 |14890        |Bad Boys Collection             |/tSVbihfvVTCbcm0zXKA7L8R6Y9v.jpg|/yUvBiiC77UY6SyKhfFyLj7DNbfh.jpg|\n",
      "|414  |120794       |Batman Collection               |/adQxUvQW8HXNsvMG5aj71pHh9T.jpg |/9SpZvXLZDGGtFqVDByGqSGI64Kw.jpg|\n",
      "|5894 |439053       |Brooklyn Cigar Store Collection |/bgiPsYjbjbRFmEeUfYlp8ZDBVJJ.jpg|/r4Ov7P8OADcOxfpuDujoJl2Cqry.jpg|\n",
      "|8068 |9649         |Mexico Trilogy                  |/qmPhILSFQKaRyc81mVJWl05tHai.jpg|/6p1OzuIKWnTDfDea7IpB9xra5J.jpg |\n",
      "|1572 |1570         |Die Hard Collection             |/dQP1lu4tBtCiAMeCRcuTFpJiM7y.jpg|/5kHVblr87FUScuab1PVSsK692IL.jpg|\n",
      "+-----+-------------+--------------------------------+--------------------------------+--------------------------------+\n",
      "only showing top 20 rows\n",
      "\n"
     ]
    },
    {
     "name": "stderr",
     "output_type": "stream",
     "text": [
      "                                                                                \r"
     ]
    }
   ],
   "source": [
    "df_collection_columns.show(truncate=False)"
   ]
  },
  {
   "cell_type": "markdown",
   "id": "9664ba18-9b0a-4e8e-9e07-88f56cab2220",
   "metadata": {},
   "source": [
    "## For Genres Column"
   ]
  },
  {
   "cell_type": "code",
   "execution_count": 12,
   "id": "394eed8c-576f-49f3-ba1e-9f4de5458ccb",
   "metadata": {},
   "outputs": [
    {
     "name": "stdout",
     "output_type": "stream",
     "text": [
      "+-----------------------------------------------------------------------------------------------------------------------------+\n",
      "|genres                                                                                                                       |\n",
      "+-----------------------------------------------------------------------------------------------------------------------------+\n",
      "|[{'id': 16, 'name': 'Animation'}, {'id': 35, 'name': 'Comedy'}, {'id': 10751, 'name': 'Family'}]                             |\n",
      "|[{'id': 12, 'name': 'Adventure'}, {'id': 14, 'name': 'Fantasy'}, {'id': 10751, 'name': 'Family'}]                            |\n",
      "|[{'id': 10749, 'name': 'Romance'}, {'id': 35, 'name': 'Comedy'}]                                                             |\n",
      "|[{'id': 35, 'name': 'Comedy'}, {'id': 18, 'name': 'Drama'}, {'id': 10749, 'name': 'Romance'}]                                |\n",
      "|[{'id': 35, 'name': 'Comedy'}]                                                                                               |\n",
      "|[{'id': 28, 'name': 'Action'}, {'id': 80, 'name': 'Crime'}, {'id': 18, 'name': 'Drama'}, {'id': 53, 'name': 'Thriller'}]     |\n",
      "|[{'id': 35, 'name': 'Comedy'}, {'id': 10749, 'name': 'Romance'}]                                                             |\n",
      "|[{'id': 28, 'name': 'Action'}, {'id': 12, 'name': 'Adventure'}, {'id': 18, 'name': 'Drama'}, {'id': 10751, 'name': 'Family'}]|\n",
      "|[{'id': 28, 'name': 'Action'}, {'id': 12, 'name': 'Adventure'}, {'id': 53, 'name': 'Thriller'}]                              |\n",
      "|[{'id': 12, 'name': 'Adventure'}, {'id': 28, 'name': 'Action'}, {'id': 53, 'name': 'Thriller'}]                              |\n",
      "|[{'id': 35, 'name': 'Comedy'}, {'id': 18, 'name': 'Drama'}, {'id': 10749, 'name': 'Romance'}]                                |\n",
      "|[{'id': 35, 'name': 'Comedy'}, {'id': 27, 'name': 'Horror'}]                                                                 |\n",
      "|[{'id': 10751, 'name': 'Family'}, {'id': 16, 'name': 'Animation'}, {'id': 12, 'name': 'Adventure'}]                          |\n",
      "|[{'id': 36, 'name': 'History'}, {'id': 18, 'name': 'Drama'}]                                                                 |\n",
      "|[{'id': 28, 'name': 'Action'}, {'id': 12, 'name': 'Adventure'}]                                                              |\n",
      "|[{'id': 18, 'name': 'Drama'}, {'id': 80, 'name': 'Crime'}]                                                                   |\n",
      "|[{'id': 18, 'name': 'Drama'}, {'id': 10749, 'name': 'Romance'}]                                                              |\n",
      "|[{'id': 80, 'name': 'Crime'}, {'id': 35, 'name': 'Comedy'}]                                                                  |\n",
      "|[{'id': 80, 'name': 'Crime'}, {'id': 35, 'name': 'Comedy'}, {'id': 12, 'name': 'Adventure'}]                                 |\n",
      "|[{'id': 28, 'name': 'Action'}, {'id': 35, 'name': 'Comedy'}, {'id': 80, 'name': 'Crime'}]                                    |\n",
      "+-----------------------------------------------------------------------------------------------------------------------------+\n",
      "only showing top 20 rows\n",
      "\n"
     ]
    },
    {
     "name": "stderr",
     "output_type": "stream",
     "text": [
      "                                                                                \r"
     ]
    }
   ],
   "source": [
    "df_metadata.select(\"genres\").show(truncate=False)"
   ]
  },
  {
   "cell_type": "code",
   "execution_count": 13,
   "id": "a08618c4-4cbb-47f3-8321-e69465ea91f6",
   "metadata": {},
   "outputs": [],
   "source": [
    "# genres column\n",
    "genres_schema = ArrayType(\n",
    "    StructType([\n",
    "        StructField(\"id\",StringType(), True),\n",
    "        StructField(\"name\",StringType(), True),\n",
    "    ])\n",
    ")"
   ]
  },
  {
   "cell_type": "code",
   "execution_count": 18,
   "id": "172993ce-cd60-4ecb-bc61-1d66a35ace1a",
   "metadata": {},
   "outputs": [],
   "source": [
    "# use transformation function\n",
    "df_genres_result = transformation(df_metadata, \"id\", \"genres\",\"genres\", genres_schema)"
   ]
  },
  {
   "cell_type": "code",
   "execution_count": 19,
   "id": "6b9c17da-d1f4-4c75-b84d-e978a5cd5967",
   "metadata": {},
   "outputs": [],
   "source": [
    "df_genres_columns= df_genres_result.select(\"id\",col(\"genres.id\").alias(\"genres_id\"), col(\"genres.name\").alias(\"genres_name\"))"
   ]
  },
  {
   "cell_type": "code",
   "execution_count": 20,
   "id": "20472b92-a2e5-4bc4-bc92-eb4c4aef2196",
   "metadata": {},
   "outputs": [
    {
     "name": "stdout",
     "output_type": "stream",
     "text": [
      "+-----+---------+-----------+\n",
      "|   id|genres_id|genres_name|\n",
      "+-----+---------+-----------+\n",
      "|  862|       16|  Animation|\n",
      "|  862|       35|     Comedy|\n",
      "|  862|    10751|     Family|\n",
      "| 8844|       12|  Adventure|\n",
      "| 8844|       14|    Fantasy|\n",
      "| 8844|    10751|     Family|\n",
      "|15602|    10749|    Romance|\n",
      "|15602|       35|     Comedy|\n",
      "|31357|       35|     Comedy|\n",
      "|31357|       18|      Drama|\n",
      "|31357|    10749|    Romance|\n",
      "|11862|       35|     Comedy|\n",
      "|  949|       28|     Action|\n",
      "|  949|       80|      Crime|\n",
      "|  949|       18|      Drama|\n",
      "|  949|       53|   Thriller|\n",
      "|11860|       35|     Comedy|\n",
      "|11860|    10749|    Romance|\n",
      "|45325|       28|     Action|\n",
      "|45325|       12|  Adventure|\n",
      "+-----+---------+-----------+\n",
      "only showing top 20 rows\n",
      "\n"
     ]
    }
   ],
   "source": [
    "df_genres_columns.show()"
   ]
  },
  {
   "cell_type": "markdown",
   "id": "a79e0ab7-0395-4c4a-ab3f-d1ebc4952f24",
   "metadata": {},
   "source": [
    "## production companies"
   ]
  },
  {
   "cell_type": "code",
   "execution_count": 21,
   "id": "d250cf0a-4a2c-4e69-8998-13155e14bf64",
   "metadata": {},
   "outputs": [
    {
     "name": "stdout",
     "output_type": "stream",
     "text": [
      "+-------------------------------------------------------------------------------------------------------------------------------------------------------------------------------------------------------------------------------------------------------------------------------------------------------------------------------------+\n",
      "|production_companies                                                                                                                                                                                                                                                                                                                 |\n",
      "+-------------------------------------------------------------------------------------------------------------------------------------------------------------------------------------------------------------------------------------------------------------------------------------------------------------------------------------+\n",
      "|[{'name': 'Pixar Animation Studios', 'id': 3}]                                                                                                                                                                                                                                                                                       |\n",
      "|[{'name': 'TriStar Pictures', 'id': 559}, {'name': 'Teitler Film', 'id': 2550}, {'name': 'Interscope Communications', 'id': 10201}]                                                                                                                                                                                                  |\n",
      "|[{'name': 'Warner Bros.', 'id': 6194}, {'name': 'Lancaster Gate', 'id': 19464}]                                                                                                                                                                                                                                                      |\n",
      "| determined to find a better way to breathe.\"                                                                                                                                                                                                                                                                                        |\n",
      "|[{'name': 'Sandollar Productions', 'id': 5842}, {'name': 'Touchstone Pictures', 'id': 9195}]                                                                                                                                                                                                                                         |\n",
      "|[{'name': 'Regency Enterprises', 'id': 508}, {'name': 'Forward Pass', 'id': 675}, {'name': 'Warner Bros.', 'id': 6194}]                                                                                                                                                                                                              |\n",
      "|[{'name': 'Paramount Pictures', 'id': 4}, {'name': 'Scott Rudin Productions', 'id': 258}, {'name': 'Mirage Enterprises', 'id': 932}, {'name': 'Sandollar Productions', 'id': 5842}, {'name': 'Constellation Entertainment', 'id': 14941}, {'name': 'Worldwide', 'id': 55873}, {'name': 'Mont Blanc Entertainment GmbH', 'id': 58079}]|\n",
      "|[{'name': 'Walt Disney Pictures', 'id': 2}]                                                                                                                                                                                                                                                                                          |\n",
      "|[{'name': 'Universal Pictures', 'id': 33}, {'name': 'Imperial Entertainment', 'id': 21437}, {'name': 'Signature Entertainment', 'id': 23770}]                                                                                                                                                                                        |\n",
      "|[{'name': 'United Artists', 'id': 60}, {'name': 'Eon Productions', 'id': 7576}]                                                                                                                                                                                                                                                      |\n",
      "|[{'name': 'Columbia Pictures', 'id': 5}, {'name': 'Castle Rock Entertainment', 'id': 97}]                                                                                                                                                                                                                                            |\n",
      "|[{'name': 'Columbia Pictures', 'id': 5}, {'name': 'Castle Rock Entertainment', 'id': 97}, {'name': 'Enigma Pictures', 'id': 6368}]                                                                                                                                                                                                   |\n",
      "|[{'name': 'Universal Pictures', 'id': 33}, {'name': 'Amblin Entertainment', 'id': 56}, {'name': 'Amblimation', 'id': 4105}]                                                                                                                                                                                                          |\n",
      "|[{'name': 'Hollywood Pictures', 'id': 915}, {'name': 'Cinergi Pictures Entertainment', 'id': 1504}]                                                                                                                                                                                                                                  |\n",
      "|[{'name': 'Le Studio Canal+', 'id': 183}, {'name': 'Laurence Mark Productions', 'id': 415}, {'name': 'Metro-Goldwyn-Mayer (MGM)', 'id': 8411}, {'name': 'Carolco Pictures', 'id': 14723}]                                                                                                                                            |\n",
      "|[{'name': 'Universal Pictures', 'id': 33}, {'name': 'Légende Entreprises', 'id': 10898}, {'name': 'Syalis DA', 'id': 11583}, {'name': 'De Fina-Cappa', 'id': 11584}]                                                                                                                                                                 |\n",
      "|[{'name': 'Columbia Pictures Corporation', 'id': 441}, {'name': 'Mirage Enterprises', 'id': 932}]                                                                                                                                                                                                                                    |\n",
      "|[{'name': 'Miramax Films', 'id': 14}, {'name': 'A Band Apart', 'id': 59}]                                                                                                                                                                                                                                                            |\n",
      "|[{'name': 'O Entertainment', 'id': 5682}, {'name': 'Warner Bros.', 'id': 6194}, {'name': 'Morgan Creek Productions', 'id': 10210}]                                                                                                                                                                                                   |\n",
      "|[{'name': 'Columbia Pictures', 'id': 5}]                                                                                                                                                                                                                                                                                             |\n",
      "+-------------------------------------------------------------------------------------------------------------------------------------------------------------------------------------------------------------------------------------------------------------------------------------------------------------------------------------+\n",
      "only showing top 20 rows\n",
      "\n"
     ]
    }
   ],
   "source": [
    "df_metadata.select(\"production_companies\").show(truncate=False)"
   ]
  },
  {
   "cell_type": "code",
   "execution_count": 32,
   "id": "45743524-380c-4c32-a7da-723677890531",
   "metadata": {},
   "outputs": [],
   "source": [
    "# production_companies column\n",
    "companies_schema = ArrayType(\n",
    "    StructType([\n",
    "        StructField(\"name\",StringType(), True),\n",
    "        StructField(\"id\",StringType(), True),\n",
    "    ])\n",
    ")"
   ]
  },
  {
   "cell_type": "code",
   "execution_count": 33,
   "id": "37c119a4-689f-4720-90d5-c8ee84365d50",
   "metadata": {},
   "outputs": [],
   "source": [
    "# use transformation function\n",
    "df_result = transformation(df_metadata, \"id\", \"production_companies\",\"companies\", companies_schema)"
   ]
  },
  {
   "cell_type": "code",
   "execution_count": 34,
   "id": "0f7e4523-2b5d-4db5-9060-837877800017",
   "metadata": {},
   "outputs": [],
   "source": [
    "df_companies_columns= df_result.select(\"id\",col(\"companies.id\").alias(\"companies_id\"), col(\"companies.name\").alias(\"companies_name\"))"
   ]
  },
  {
   "cell_type": "code",
   "execution_count": 35,
   "id": "0d4a3474-d68f-4db0-b223-8ed0640c1094",
   "metadata": {},
   "outputs": [
    {
     "name": "stdout",
     "output_type": "stream",
     "text": [
      "+-----+------------+--------------------+\n",
      "|   id|companies_id|      companies_name|\n",
      "+-----+------------+--------------------+\n",
      "|  862|           3|Pixar Animation S...|\n",
      "| 8844|         559|    TriStar Pictures|\n",
      "| 8844|        2550|        Teitler Film|\n",
      "| 8844|       10201|Interscope Commun...|\n",
      "|15602|        6194|        Warner Bros.|\n",
      "|15602|       19464|      Lancaster Gate|\n",
      "|11862|        5842|Sandollar Product...|\n",
      "|11862|        9195| Touchstone Pictures|\n",
      "|  949|         508| Regency Enterprises|\n",
      "|  949|         675|        Forward Pass|\n",
      "|  949|        6194|        Warner Bros.|\n",
      "|11860|           4|  Paramount Pictures|\n",
      "|11860|         258|Scott Rudin Produ...|\n",
      "|11860|         932|  Mirage Enterprises|\n",
      "|11860|        5842|Sandollar Product...|\n",
      "|11860|       14941|Constellation Ent...|\n",
      "|11860|       55873|           Worldwide|\n",
      "|11860|       58079|Mont Blanc Entert...|\n",
      "|45325|           2|Walt Disney Pictures|\n",
      "| 9091|          33|  Universal Pictures|\n",
      "+-----+------------+--------------------+\n",
      "only showing top 20 rows\n",
      "\n"
     ]
    }
   ],
   "source": [
    "df_companies_columns.show()"
   ]
  },
  {
   "cell_type": "markdown",
   "id": "41bbc426-d384-4c55-8a24-4e47e582a07a",
   "metadata": {},
   "source": [
    "## production countries"
   ]
  },
  {
   "cell_type": "code",
   "execution_count": 54,
   "id": "e6b90342-361f-485c-9774-baa4f35e2e40",
   "metadata": {},
   "outputs": [
    {
     "name": "stdout",
     "output_type": "stream",
     "text": [
      "+----------------------------------------------------------------------------------------------------------------------------------------------------------------------------------+\n",
      "|production_countries                                                                                                                                                              |\n",
      "+----------------------------------------------------------------------------------------------------------------------------------------------------------------------------------+\n",
      "|[{'iso_3166_1': 'US', 'name': 'United States of America'}]                                                                                                                        |\n",
      "|[{'iso_3166_1': 'US', 'name': 'United States of America'}]                                                                                                                        |\n",
      "|[{'iso_3166_1': 'US', 'name': 'United States of America'}]                                                                                                                        |\n",
      "|3.859495                                                                                                                                                                          |\n",
      "|[{'iso_3166_1': 'US', 'name': 'United States of America'}]                                                                                                                        |\n",
      "|[{'iso_3166_1': 'US', 'name': 'United States of America'}]                                                                                                                        |\n",
      "|[{'iso_3166_1': 'DE', 'name': 'Germany'}, {'iso_3166_1': 'US', 'name': 'United States of America'}]                                                                               |\n",
      "|[{'iso_3166_1': 'US', 'name': 'United States of America'}]                                                                                                                        |\n",
      "|[{'iso_3166_1': 'US', 'name': 'United States of America'}]                                                                                                                        |\n",
      "|[{'iso_3166_1': 'GB', 'name': 'United Kingdom'}, {'iso_3166_1': 'US', 'name': 'United States of America'}]                                                                        |\n",
      "|[{'iso_3166_1': 'US', 'name': 'United States of America'}]                                                                                                                        |\n",
      "|[{'iso_3166_1': 'FR', 'name': 'France'}, {'iso_3166_1': 'US', 'name': 'United States of America'}]                                                                                |\n",
      "|[{'iso_3166_1': 'US', 'name': 'United States of America'}]                                                                                                                        |\n",
      "|[{'iso_3166_1': 'US', 'name': 'United States of America'}]                                                                                                                        |\n",
      "|[{'iso_3166_1': 'FR', 'name': 'France'}, {'iso_3166_1': 'DE', 'name': 'Germany'}, {'iso_3166_1': 'IT', 'name': 'Italy'}, {'iso_3166_1': 'US', 'name': 'United States of America'}]|\n",
      "|[{'iso_3166_1': 'FR', 'name': 'France'}, {'iso_3166_1': 'US', 'name': 'United States of America'}]                                                                                |\n",
      "|[{'iso_3166_1': 'GB', 'name': 'United Kingdom'}, {'iso_3166_1': 'US', 'name': 'United States of America'}]                                                                        |\n",
      "|[{'iso_3166_1': 'US', 'name': 'United States of America'}]                                                                                                                        |\n",
      "|[{'iso_3166_1': 'US', 'name': 'United States of America'}]                                                                                                                        |\n",
      "|[{'iso_3166_1': 'US', 'name': 'United States of America'}]                                                                                                                        |\n",
      "+----------------------------------------------------------------------------------------------------------------------------------------------------------------------------------+\n",
      "only showing top 20 rows\n",
      "\n"
     ]
    }
   ],
   "source": [
    "df_metadata.select(\"production_countries\").show(truncate=False)"
   ]
  },
  {
   "cell_type": "code",
   "execution_count": 61,
   "id": "b7d3f857-2471-48f1-82a5-a261c98a8f14",
   "metadata": {},
   "outputs": [],
   "source": [
    "# production_companies column\n",
    "countries_schema = ArrayType(\n",
    "    StructType([\n",
    "        StructField(\"`iso_3166_1`\",StringType(), True),\n",
    "        StructField(\"name\",StringType(), True),\n",
    "    ])\n",
    ")"
   ]
  },
  {
   "cell_type": "code",
   "execution_count": 62,
   "id": "b036ec54-f536-4e85-91cc-66d1482b153e",
   "metadata": {},
   "outputs": [
    {
     "name": "stdout",
     "output_type": "stream",
     "text": [
      "+-----+--------------------+\n",
      "|   id|           countires|\n",
      "+-----+--------------------+\n",
      "|  862|{null, United Sta...|\n",
      "| 8844|{null, United Sta...|\n",
      "|15602|{null, United Sta...|\n",
      "|11862|{null, United Sta...|\n",
      "|  949|{null, United Sta...|\n",
      "|11860|     {null, Germany}|\n",
      "|11860|{null, United Sta...|\n",
      "|45325|{null, United Sta...|\n",
      "| 9091|{null, United Sta...|\n",
      "|  710|{null, United Kin...|\n",
      "|  710|{null, United Sta...|\n",
      "| 9087|{null, United Sta...|\n",
      "|12110|      {null, France}|\n",
      "|12110|{null, United Sta...|\n",
      "|21032|{null, United Sta...|\n",
      "|10858|{null, United Sta...|\n",
      "| 1408|      {null, France}|\n",
      "| 1408|     {null, Germany}|\n",
      "| 1408|       {null, Italy}|\n",
      "| 1408|{null, United Sta...|\n",
      "+-----+--------------------+\n",
      "only showing top 20 rows\n",
      "\n"
     ]
    }
   ],
   "source": [
    "# use transformation function\n",
    "df_result = transformation(df_metadata, \"id\", \"production_countries\",\"countires\", companies_schema)\n",
    "df_result.show()"
   ]
  },
  {
   "cell_type": "code",
   "execution_count": 60,
   "id": "382653e3-9e30-4391-b98b-71795111e67c",
   "metadata": {},
   "outputs": [
    {
     "ename": "AnalysisException",
     "evalue": "[FIELD_NOT_FOUND] No such struct field `iso_3166_1` in `iso_31661`, `name`.",
     "output_type": "error",
     "traceback": [
      "\u001b[0;31m---------------------------------------------------------------------------\u001b[0m",
      "\u001b[0;31mAnalysisException\u001b[0m                         Traceback (most recent call last)",
      "Cell \u001b[0;32mIn[60], line 1\u001b[0m\n\u001b[0;32m----> 1\u001b[0m df_cuntries_columns\u001b[38;5;241m=\u001b[39m \u001b[43mdf_result\u001b[49m\u001b[38;5;241;43m.\u001b[39;49m\u001b[43mselect\u001b[49m\u001b[43m(\u001b[49m\u001b[38;5;124;43m\"\u001b[39;49m\u001b[38;5;124;43mid\u001b[39;49m\u001b[38;5;124;43m\"\u001b[39;49m\u001b[43m,\u001b[49m\u001b[43mcol\u001b[49m\u001b[43m(\u001b[49m\u001b[38;5;124;43m\"\u001b[39;49m\u001b[38;5;124;43mcountires.iso_3166_1\u001b[39;49m\u001b[38;5;124;43m\"\u001b[39;49m\u001b[43m)\u001b[49m\u001b[43m,\u001b[49m\u001b[43m \u001b[49m\u001b[43mcol\u001b[49m\u001b[43m(\u001b[49m\u001b[38;5;124;43m\"\u001b[39;49m\u001b[38;5;124;43mcountires.name\u001b[39;49m\u001b[38;5;124;43m\"\u001b[39;49m\u001b[43m)\u001b[49m\u001b[38;5;241;43m.\u001b[39;49m\u001b[43malias\u001b[49m\u001b[43m(\u001b[49m\u001b[38;5;124;43m\"\u001b[39;49m\u001b[38;5;124;43mcountires_name\u001b[39;49m\u001b[38;5;124;43m\"\u001b[39;49m\u001b[43m)\u001b[49m\u001b[43m)\u001b[49m\n",
      "File \u001b[0;32m~/anaconda3/lib/python3.10/site-packages/pyspark/sql/dataframe.py:3036\u001b[0m, in \u001b[0;36mDataFrame.select\u001b[0;34m(self, *cols)\u001b[0m\n\u001b[1;32m   2991\u001b[0m \u001b[38;5;28;01mdef\u001b[39;00m \u001b[38;5;21mselect\u001b[39m(\u001b[38;5;28mself\u001b[39m, \u001b[38;5;241m*\u001b[39mcols: \u001b[38;5;124m\"\u001b[39m\u001b[38;5;124mColumnOrName\u001b[39m\u001b[38;5;124m\"\u001b[39m) \u001b[38;5;241m-\u001b[39m\u001b[38;5;241m>\u001b[39m \u001b[38;5;124m\"\u001b[39m\u001b[38;5;124mDataFrame\u001b[39m\u001b[38;5;124m\"\u001b[39m:  \u001b[38;5;66;03m# type: ignore[misc]\u001b[39;00m\n\u001b[1;32m   2992\u001b[0m \u001b[38;5;250m    \u001b[39m\u001b[38;5;124;03m\"\"\"Projects a set of expressions and returns a new :class:`DataFrame`.\u001b[39;00m\n\u001b[1;32m   2993\u001b[0m \n\u001b[1;32m   2994\u001b[0m \u001b[38;5;124;03m    .. versionadded:: 1.3.0\u001b[39;00m\n\u001b[0;32m   (...)\u001b[0m\n\u001b[1;32m   3034\u001b[0m \u001b[38;5;124;03m    +-----+---+\u001b[39;00m\n\u001b[1;32m   3035\u001b[0m \u001b[38;5;124;03m    \"\"\"\u001b[39;00m\n\u001b[0;32m-> 3036\u001b[0m     jdf \u001b[38;5;241m=\u001b[39m \u001b[38;5;28;43mself\u001b[39;49m\u001b[38;5;241;43m.\u001b[39;49m\u001b[43m_jdf\u001b[49m\u001b[38;5;241;43m.\u001b[39;49m\u001b[43mselect\u001b[49m\u001b[43m(\u001b[49m\u001b[38;5;28;43mself\u001b[39;49m\u001b[38;5;241;43m.\u001b[39;49m\u001b[43m_jcols\u001b[49m\u001b[43m(\u001b[49m\u001b[38;5;241;43m*\u001b[39;49m\u001b[43mcols\u001b[49m\u001b[43m)\u001b[49m\u001b[43m)\u001b[49m\n\u001b[1;32m   3037\u001b[0m     \u001b[38;5;28;01mreturn\u001b[39;00m DataFrame(jdf, \u001b[38;5;28mself\u001b[39m\u001b[38;5;241m.\u001b[39msparkSession)\n",
      "File \u001b[0;32m~/anaconda3/lib/python3.10/site-packages/py4j/java_gateway.py:1322\u001b[0m, in \u001b[0;36mJavaMember.__call__\u001b[0;34m(self, *args)\u001b[0m\n\u001b[1;32m   1316\u001b[0m command \u001b[38;5;241m=\u001b[39m proto\u001b[38;5;241m.\u001b[39mCALL_COMMAND_NAME \u001b[38;5;241m+\u001b[39m\\\n\u001b[1;32m   1317\u001b[0m     \u001b[38;5;28mself\u001b[39m\u001b[38;5;241m.\u001b[39mcommand_header \u001b[38;5;241m+\u001b[39m\\\n\u001b[1;32m   1318\u001b[0m     args_command \u001b[38;5;241m+\u001b[39m\\\n\u001b[1;32m   1319\u001b[0m     proto\u001b[38;5;241m.\u001b[39mEND_COMMAND_PART\n\u001b[1;32m   1321\u001b[0m answer \u001b[38;5;241m=\u001b[39m \u001b[38;5;28mself\u001b[39m\u001b[38;5;241m.\u001b[39mgateway_client\u001b[38;5;241m.\u001b[39msend_command(command)\n\u001b[0;32m-> 1322\u001b[0m return_value \u001b[38;5;241m=\u001b[39m \u001b[43mget_return_value\u001b[49m\u001b[43m(\u001b[49m\n\u001b[1;32m   1323\u001b[0m \u001b[43m    \u001b[49m\u001b[43manswer\u001b[49m\u001b[43m,\u001b[49m\u001b[43m \u001b[49m\u001b[38;5;28;43mself\u001b[39;49m\u001b[38;5;241;43m.\u001b[39;49m\u001b[43mgateway_client\u001b[49m\u001b[43m,\u001b[49m\u001b[43m \u001b[49m\u001b[38;5;28;43mself\u001b[39;49m\u001b[38;5;241;43m.\u001b[39;49m\u001b[43mtarget_id\u001b[49m\u001b[43m,\u001b[49m\u001b[43m \u001b[49m\u001b[38;5;28;43mself\u001b[39;49m\u001b[38;5;241;43m.\u001b[39;49m\u001b[43mname\u001b[49m\u001b[43m)\u001b[49m\n\u001b[1;32m   1325\u001b[0m \u001b[38;5;28;01mfor\u001b[39;00m temp_arg \u001b[38;5;129;01min\u001b[39;00m temp_args:\n\u001b[1;32m   1326\u001b[0m     \u001b[38;5;28;01mif\u001b[39;00m \u001b[38;5;28mhasattr\u001b[39m(temp_arg, \u001b[38;5;124m\"\u001b[39m\u001b[38;5;124m_detach\u001b[39m\u001b[38;5;124m\"\u001b[39m):\n",
      "File \u001b[0;32m~/anaconda3/lib/python3.10/site-packages/pyspark/errors/exceptions/captured.py:175\u001b[0m, in \u001b[0;36mcapture_sql_exception.<locals>.deco\u001b[0;34m(*a, **kw)\u001b[0m\n\u001b[1;32m    171\u001b[0m converted \u001b[38;5;241m=\u001b[39m convert_exception(e\u001b[38;5;241m.\u001b[39mjava_exception)\n\u001b[1;32m    172\u001b[0m \u001b[38;5;28;01mif\u001b[39;00m \u001b[38;5;129;01mnot\u001b[39;00m \u001b[38;5;28misinstance\u001b[39m(converted, UnknownException):\n\u001b[1;32m    173\u001b[0m     \u001b[38;5;66;03m# Hide where the exception came from that shows a non-Pythonic\u001b[39;00m\n\u001b[1;32m    174\u001b[0m     \u001b[38;5;66;03m# JVM exception message.\u001b[39;00m\n\u001b[0;32m--> 175\u001b[0m     \u001b[38;5;28;01mraise\u001b[39;00m converted \u001b[38;5;28;01mfrom\u001b[39;00m \u001b[38;5;28;01mNone\u001b[39;00m\n\u001b[1;32m    176\u001b[0m \u001b[38;5;28;01melse\u001b[39;00m:\n\u001b[1;32m    177\u001b[0m     \u001b[38;5;28;01mraise\u001b[39;00m\n",
      "\u001b[0;31mAnalysisException\u001b[0m: [FIELD_NOT_FOUND] No such struct field `iso_3166_1` in `iso_31661`, `name`."
     ]
    }
   ],
   "source": [
    "df_cuntries_columns= df_result.select(\"id\",col(\"countires.iso_3166_1\"), col(\"countires.name\").alias(\"countires_name\"))"
   ]
  },
  {
   "cell_type": "code",
   "execution_count": 47,
   "id": "b0a46244-526c-4397-bbc0-bb01ec13e40c",
   "metadata": {},
   "outputs": [
    {
     "name": "stdout",
     "output_type": "stream",
     "text": [
      "+-----+-------------+--------------------+\n",
      "|   id|countires_iso|      countires_name|\n",
      "+-----+-------------+--------------------+\n",
      "|  862|         null|United States of ...|\n",
      "| 8844|         null|United States of ...|\n",
      "|15602|         null|United States of ...|\n",
      "|11862|         null|United States of ...|\n",
      "|  949|         null|United States of ...|\n",
      "|11860|         null|             Germany|\n",
      "|11860|         null|United States of ...|\n",
      "|45325|         null|United States of ...|\n",
      "| 9091|         null|United States of ...|\n",
      "|  710|         null|      United Kingdom|\n",
      "|  710|         null|United States of ...|\n",
      "| 9087|         null|United States of ...|\n",
      "|12110|         null|              France|\n",
      "|12110|         null|United States of ...|\n",
      "|21032|         null|United States of ...|\n",
      "|10858|         null|United States of ...|\n",
      "| 1408|         null|              France|\n",
      "| 1408|         null|             Germany|\n",
      "| 1408|         null|               Italy|\n",
      "| 1408|         null|United States of ...|\n",
      "+-----+-------------+--------------------+\n",
      "only showing top 20 rows\n",
      "\n"
     ]
    }
   ],
   "source": [
    "df_cuntries_columns.show()"
   ]
  },
  {
   "cell_type": "markdown",
   "id": "efa1660e-c25e-493b-8393-2148dda180d9",
   "metadata": {},
   "source": [
    "## Spoken Languages"
   ]
  },
  {
   "cell_type": "code",
   "execution_count": 63,
   "id": "70667f35-e907-4080-9ffe-d9f96078b39a",
   "metadata": {},
   "outputs": [
    {
     "name": "stdout",
     "output_type": "stream",
     "text": [
      "+------------------------------------------------------------------------------------------------------------------------+\n",
      "|spoken_languages                                                                                                        |\n",
      "+------------------------------------------------------------------------------------------------------------------------+\n",
      "|[{'iso_639_1': 'en', 'name': 'English'}]                                                                                |\n",
      "|[{'iso_639_1': 'en', 'name': 'English'}, {'iso_639_1': 'fr', 'name': 'Français'}]                                       |\n",
      "|[{'iso_639_1': 'en', 'name': 'English'}]                                                                                |\n",
      "|1995-12-22                                                                                                              |\n",
      "|[{'iso_639_1': 'en', 'name': 'English'}]                                                                                |\n",
      "|[{'iso_639_1': 'en', 'name': 'English'}, {'iso_639_1': 'es', 'name': 'Español'}]                                        |\n",
      "|[{'iso_639_1': 'fr', 'name': 'Français'}, {'iso_639_1': 'en', 'name': 'English'}]                                       |\n",
      "|[{'iso_639_1': 'en', 'name': 'English'}, {'iso_639_1': 'de', 'name': 'Deutsch'}]                                        |\n",
      "|[{'iso_639_1': 'en', 'name': 'English'}]                                                                                |\n",
      "|[{'iso_639_1': 'en', 'name': 'English'}, {'iso_639_1': 'ru', 'name': 'Pусский'}, {'iso_639_1': 'es', 'name': 'Español'}]|\n",
      "|[{'iso_639_1': 'en', 'name': 'English'}]                                                                                |\n",
      "|[{'iso_639_1': 'en', 'name': 'English'}, {'iso_639_1': 'de', 'name': 'Deutsch'}]                                        |\n",
      "|[{'iso_639_1': 'en', 'name': 'English'}]                                                                                |\n",
      "|[{'iso_639_1': 'en', 'name': 'English'}]                                                                                |\n",
      "|[{'iso_639_1': 'en', 'name': 'English'}, {'iso_639_1': 'la', 'name': 'Latin'}]                                          |\n",
      "|[{'iso_639_1': 'en', 'name': 'English'}]                                                                                |\n",
      "|[{'iso_639_1': 'en', 'name': 'English'}]                                                                                |\n",
      "|[{'iso_639_1': 'en', 'name': 'English'}]                                                                                |\n",
      "|[{'iso_639_1': 'en', 'name': 'English'}]                                                                                |\n",
      "|[{'iso_639_1': 'en', 'name': 'English'}]                                                                                |\n",
      "+------------------------------------------------------------------------------------------------------------------------+\n",
      "only showing top 20 rows\n",
      "\n"
     ]
    }
   ],
   "source": [
    "df_metadata.select(\"spoken_languages\").show(truncate=False)"
   ]
  },
  {
   "cell_type": "code",
   "execution_count": null,
   "id": "4ce532dd-5767-4ae8-98c9-e90e9f33a7fc",
   "metadata": {},
   "outputs": [],
   "source": []
  }
 ],
 "metadata": {
  "kernelspec": {
   "display_name": "Python 3 (ipykernel)",
   "language": "python",
   "name": "python3"
  },
  "language_info": {
   "codemirror_mode": {
    "name": "ipython",
    "version": 3
   },
   "file_extension": ".py",
   "mimetype": "text/x-python",
   "name": "python",
   "nbconvert_exporter": "python",
   "pygments_lexer": "ipython3",
   "version": "3.10.9"
  }
 },
 "nbformat": 4,
 "nbformat_minor": 5
}
