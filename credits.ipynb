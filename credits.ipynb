{
 "cells": [
  {
   "cell_type": "code",
   "execution_count": 2,
   "id": "8ba06d08-feb5-4e76-9a11-1c71d8ebafe9",
   "metadata": {},
   "outputs": [],
   "source": [
    "import pyspark\n",
    "import re\n",
    "import pandas as pd"
   ]
  },
  {
   "cell_type": "code",
   "execution_count": 3,
   "id": "2e602316-d4cf-482c-9608-999af53845f6",
   "metadata": {},
   "outputs": [],
   "source": [
    "from pyspark.sql import SparkSession\n",
    "from pyspark.sql.functions import explode, from_json, col\n",
    "from pyspark.sql.types import ArrayType, StructType, StructField, StringType, IntegerType"
   ]
  },
  {
   "cell_type": "code",
   "execution_count": 5,
   "id": "48d5b7bd-a32c-4401-814a-de919ef30e44",
   "metadata": {},
   "outputs": [],
   "source": [
    "spark = SparkSession \\\n",
    "    .builder \\\n",
    "    .appName(\"Spark_data_clean\") \\\n",
    "    .config(\"spark.master\", \"spark://rayiMac.modem:7077\") \\\n",
    "    .config(\"spark.jars.packages\", \"com.crealytics:spark-excel_2.12:3.2.2_0.18.0\") \\\n",
    "    .config(\"spark.executor.cores\", \"1\") \\\n",
    "    .config(\"spark.executor.num\", \"1\") \\\n",
    "    .getOrCreate()"
   ]
  },
  {
   "cell_type": "code",
   "execution_count": 7,
   "id": "939bcecf-54e2-4e9b-bef8-0e05e2e79e28",
   "metadata": {},
   "outputs": [
    {
     "name": "stderr",
     "output_type": "stream",
     "text": [
      "                                                                                \r"
     ]
    }
   ],
   "source": [
    "# load csv file into dataframe\n",
    "df_credits = spark.read.csv(\"credits.csv\", header=True)"
   ]
  },
  {
   "cell_type": "code",
   "execution_count": 8,
   "id": "8a9c24bc-2320-4786-bcc4-a2f585eed22b",
   "metadata": {},
   "outputs": [
    {
     "name": "stderr",
     "output_type": "stream",
     "text": [
      "[Stage 2:>                                                          (0 + 1) / 1]\r"
     ]
    },
    {
     "name": "stdout",
     "output_type": "stream",
     "text": [
      "+--------------------+--------------------+--------------------+\n",
      "|                cast|                crew|                  id|\n",
      "+--------------------+--------------------+--------------------+\n",
      "|[{'cast_id': 14, ...|\"[{'credit_id': '...| 'profile_path': ...|\n",
      "|[{'cast_id': 1, '...|[{'credit_id': '5...|                8844|\n",
      "|[{'cast_id': 2, '...|[{'credit_id': '5...|               15602|\n",
      "|\"[{'cast_id': 1, ...| 'credit_id': '52...|         'gender': 1|\n",
      "|[{'cast_id': 1, '...|[{'credit_id': '5...|               11862|\n",
      "|\"[{'cast_id': 25,...| 'credit_id': '52...|         'gender': 0|\n",
      "|[{'cast_id': 1, '...|[{'credit_id': '5...|               11860|\n",
      "|[{'cast_id': 2, '...|[{'credit_id': '5...|               45325|\n",
      "|[{'cast_id': 1, '...|[{'credit_id': '5...|                9091|\n",
      "|[{'cast_id': 1, '...|[{'credit_id': '5...|                 710|\n",
      "|\"[{'cast_id': 1, ...| 'credit_id': '52...|         'gender': 2|\n",
      "|[{'cast_id': 9, '...|\"[{'credit_id': '...| 'profile_path': ...|\n",
      "|\"[{'cast_id': 1, ...| 'credit_id': '56...|         'gender': 0|\n",
      "|\"[{'cast_id': 1, ...| 'credit_id': '52...|         'gender': 2|\n",
      "|\"[{'cast_id': 1, ...| 'credit_id': '59...|         'gender': 2|\n",
      "|\"[{'cast_id': 4, ...| 'credit_id': '52...|         'gender': 2|\n",
      "|[{'cast_id': 6, '...|[{'credit_id': '5...|                4584|\n",
      "|[{'cast_id': 42, ...|\"[{'credit_id': '...| 'profile_path': ...|\n",
      "|\"[{'cast_id': 1, ...|         'order': 14| 'profile_path': ...|\n",
      "|[{'cast_id': 1, '...|[{'credit_id': '5...|               11517|\n",
      "+--------------------+--------------------+--------------------+\n",
      "only showing top 20 rows\n",
      "\n"
     ]
    },
    {
     "name": "stderr",
     "output_type": "stream",
     "text": [
      "                                                                                \r"
     ]
    }
   ],
   "source": [
    "df_credits.show()"
   ]
  },
  {
   "cell_type": "code",
   "execution_count": 9,
   "id": "da293fda-bcc2-4c1a-9724-db9ae4f2daf8",
   "metadata": {},
   "outputs": [
    {
     "name": "stdout",
     "output_type": "stream",
     "text": [
      "+--------------------+\n",
      "|                  id|\n",
      "+--------------------+\n",
      "| 'profile_path': ...|\n",
      "|                8844|\n",
      "|               15602|\n",
      "|         'gender': 1|\n",
      "|               11862|\n",
      "|         'gender': 0|\n",
      "|               11860|\n",
      "|               45325|\n",
      "|                9091|\n",
      "|                 710|\n",
      "|         'gender': 2|\n",
      "| 'profile_path': ...|\n",
      "|         'gender': 0|\n",
      "|         'gender': 2|\n",
      "|         'gender': 2|\n",
      "|         'gender': 2|\n",
      "|                4584|\n",
      "| 'profile_path': ...|\n",
      "| 'profile_path': ...|\n",
      "|               11517|\n",
      "+--------------------+\n",
      "only showing top 20 rows\n",
      "\n"
     ]
    }
   ],
   "source": [
    "df_id = df_credits.select(col(\"id\"))\n",
    "df_id.show()"
   ]
  },
  {
   "cell_type": "code",
   "execution_count": null,
   "id": "eb0fcb37-1a25-407a-84e6-8b50b3caa999",
   "metadata": {},
   "outputs": [],
   "source": []
  }
 ],
 "metadata": {
  "kernelspec": {
   "display_name": "Python 3 (ipykernel)",
   "language": "python",
   "name": "python3"
  },
  "language_info": {
   "codemirror_mode": {
    "name": "ipython",
    "version": 3
   },
   "file_extension": ".py",
   "mimetype": "text/x-python",
   "name": "python",
   "nbconvert_exporter": "python",
   "pygments_lexer": "ipython3",
   "version": "3.10.9"
  }
 },
 "nbformat": 4,
 "nbformat_minor": 5
}
