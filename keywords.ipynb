{
 "cells": [
  {
   "cell_type": "code",
   "execution_count": 1,
   "id": "4702111f-b082-4933-919c-0a12c2e16a7d",
   "metadata": {},
   "outputs": [],
   "source": [
    "import pyspark"
   ]
  },
  {
   "cell_type": "code",
   "execution_count": 2,
   "id": "926b6816-de95-4d5b-b059-7245dacc39fb",
   "metadata": {},
   "outputs": [],
   "source": [
    "import re\n",
    "import pandas as pd"
   ]
  },
  {
   "cell_type": "code",
   "execution_count": 3,
   "id": "577d8a0b-980b-4f40-8681-32f6ab64665e",
   "metadata": {},
   "outputs": [],
   "source": [
    "from pyspark.sql import SparkSession\n",
    "from pyspark.sql.functions import explode\n",
    "from pyspark.sql.functions import from_json"
   ]
  },
  {
   "cell_type": "code",
   "execution_count": 4,
   "id": "4d4c62d5-b7a5-4f4b-b788-12ea46ebbdc1",
   "metadata": {},
   "outputs": [],
   "source": [
    "from pyspark.sql.types import ArrayType, StructType, StructField, StringType, IntegerType"
   ]
  },
  {
   "cell_type": "code",
   "execution_count": 5,
   "id": "044966d5-1646-4ffa-a624-acae6caba5db",
   "metadata": {},
   "outputs": [],
   "source": [
    "from pyspark.sql.functions import udf, col"
   ]
  },
  {
   "cell_type": "code",
   "execution_count": 6,
   "id": "66608242-e58a-49e7-8e2e-5d53bb4b4a4f",
   "metadata": {},
   "outputs": [],
   "source": [
    "pd.set_option('display.max_columns', None)"
   ]
  },
  {
   "cell_type": "code",
   "execution_count": 7,
   "id": "ad4ae357-53fe-4dac-a74c-0f54ecd21efd",
   "metadata": {},
   "outputs": [
    {
     "name": "stdout",
     "output_type": "stream",
     "text": [
      ":: loading settings :: url = jar:file:/opt/spark/jars/ivy-2.5.1.jar!/org/apache/ivy/core/settings/ivysettings.xml\n"
     ]
    },
    {
     "name": "stderr",
     "output_type": "stream",
     "text": [
      "Ivy Default Cache set to: /Users/ray/.ivy2/cache\n",
      "The jars for the packages stored in: /Users/ray/.ivy2/jars\n",
      "com.crealytics#spark-excel_2.12 added as a dependency\n",
      ":: resolving dependencies :: org.apache.spark#spark-submit-parent-9ba8bc30-4758-4ae5-a35c-36ae518a7927;1.0\n",
      "\tconfs: [default]\n",
      "\tfound com.crealytics#spark-excel_2.12;3.2.2_0.18.0 in central\n",
      "\tfound org.apache.poi#poi;5.2.2 in central\n",
      "\tfound commons-codec#commons-codec;1.15 in central\n",
      "\tfound org.apache.commons#commons-collections4;4.4 in central\n",
      "\tfound org.apache.commons#commons-math3;3.6.1 in central\n",
      "\tfound commons-io#commons-io;2.11.0 in central\n",
      "\tfound com.zaxxer#SparseBitSet;1.2 in central\n",
      "\tfound org.apache.logging.log4j#log4j-api;2.17.2 in central\n",
      "\tfound org.apache.poi#poi-ooxml;5.2.2 in central\n",
      "\tfound org.apache.poi#poi-ooxml-lite;5.2.2 in central\n",
      "\tfound org.apache.xmlbeans#xmlbeans;5.0.3 in central\n",
      "\tfound org.apache.commons#commons-compress;1.21 in central\n",
      "\tfound com.github.virtuald#curvesapi;1.07 in central\n",
      "\tfound com.norbitltd#spoiwo_2.12;2.2.1 in central\n",
      "\tfound com.github.tototoshi#scala-csv_2.12;1.3.10 in central\n",
      "\tfound com.github.pjfanning#excel-streaming-reader;4.0.1 in central\n",
      "\tfound com.github.pjfanning#poi-shared-strings;2.5.3 in central\n",
      "\tfound org.slf4j#slf4j-api;1.7.36 in central\n",
      "\tfound com.h2database#h2;2.1.212 in central\n",
      "\tfound org.apache.commons#commons-text;1.9 in central\n",
      "\tfound org.apache.commons#commons-lang3;3.11 in central\n",
      "\tfound org.scala-lang.modules#scala-collection-compat_2.12;2.8.1 in central\n",
      ":: resolution report :: resolve 1186ms :: artifacts dl 29ms\n",
      "\t:: modules in use:\n",
      "\tcom.crealytics#spark-excel_2.12;3.2.2_0.18.0 from central in [default]\n",
      "\tcom.github.pjfanning#excel-streaming-reader;4.0.1 from central in [default]\n",
      "\tcom.github.pjfanning#poi-shared-strings;2.5.3 from central in [default]\n",
      "\tcom.github.tototoshi#scala-csv_2.12;1.3.10 from central in [default]\n",
      "\tcom.github.virtuald#curvesapi;1.07 from central in [default]\n",
      "\tcom.h2database#h2;2.1.212 from central in [default]\n",
      "\tcom.norbitltd#spoiwo_2.12;2.2.1 from central in [default]\n",
      "\tcom.zaxxer#SparseBitSet;1.2 from central in [default]\n",
      "\tcommons-codec#commons-codec;1.15 from central in [default]\n",
      "\tcommons-io#commons-io;2.11.0 from central in [default]\n",
      "\torg.apache.commons#commons-collections4;4.4 from central in [default]\n",
      "\torg.apache.commons#commons-compress;1.21 from central in [default]\n",
      "\torg.apache.commons#commons-lang3;3.11 from central in [default]\n",
      "\torg.apache.commons#commons-math3;3.6.1 from central in [default]\n",
      "\torg.apache.commons#commons-text;1.9 from central in [default]\n",
      "\torg.apache.logging.log4j#log4j-api;2.17.2 from central in [default]\n",
      "\torg.apache.poi#poi;5.2.2 from central in [default]\n",
      "\torg.apache.poi#poi-ooxml;5.2.2 from central in [default]\n",
      "\torg.apache.poi#poi-ooxml-lite;5.2.2 from central in [default]\n",
      "\torg.apache.xmlbeans#xmlbeans;5.0.3 from central in [default]\n",
      "\torg.scala-lang.modules#scala-collection-compat_2.12;2.8.1 from central in [default]\n",
      "\torg.slf4j#slf4j-api;1.7.36 from central in [default]\n",
      "\t:: evicted modules:\n",
      "\torg.apache.logging.log4j#log4j-api;2.17.1 by [org.apache.logging.log4j#log4j-api;2.17.2] in [default]\n",
      "\torg.apache.poi#poi;5.2.1 by [org.apache.poi#poi;5.2.2] in [default]\n",
      "\torg.apache.poi#poi-ooxml;5.2.1 by [org.apache.poi#poi-ooxml;5.2.2] in [default]\n",
      "\t---------------------------------------------------------------------\n",
      "\t|                  |            modules            ||   artifacts   |\n",
      "\t|       conf       | number| search|dwnlded|evicted|| number|dwnlded|\n",
      "\t---------------------------------------------------------------------\n",
      "\t|      default     |   25  |   0   |   0   |   3   ||   22  |   0   |\n",
      "\t---------------------------------------------------------------------\n",
      ":: retrieving :: org.apache.spark#spark-submit-parent-9ba8bc30-4758-4ae5-a35c-36ae518a7927\n",
      "\tconfs: [default]\n",
      "\t0 artifacts copied, 22 already retrieved (0kB/20ms)\n",
      "23/09/04 18:11:25 WARN NativeCodeLoader: Unable to load native-hadoop library for your platform... using builtin-java classes where applicable\n",
      "Setting default log level to \"WARN\".\n",
      "To adjust logging level use sc.setLogLevel(newLevel). For SparkR, use setLogLevel(newLevel).\n"
     ]
    }
   ],
   "source": [
    "spark = SparkSession \\\n",
    "    .builder \\\n",
    "    .appName(\"Spark_data_clean\") \\\n",
    "    .config(\"spark.master\", \"spark://rayiMac.modem:7077\") \\\n",
    "    .config(\"spark.jars.packages\", \"com.crealytics:spark-excel_2.12:3.2.2_0.18.0\") \\\n",
    "    .config(\"spark.executor.cores\", \"1\") \\\n",
    "    .config(\"spark.executor.num\", \"1\") \\\n",
    "    .getOrCreate()"
   ]
  },
  {
   "cell_type": "code",
   "execution_count": 8,
   "id": "fc4a96a4-0f02-4272-ab54-d8772274ef1c",
   "metadata": {},
   "outputs": [
    {
     "name": "stderr",
     "output_type": "stream",
     "text": [
      "                                                                                \r"
     ]
    }
   ],
   "source": [
    "df_keywords = spark.read.csv(\"keywords.csv\", header=True, inferSchema=True)"
   ]
  },
  {
   "cell_type": "code",
   "execution_count": 9,
   "id": "51c40f2c-8bea-439d-acf3-4e5f682d54c3",
   "metadata": {},
   "outputs": [
    {
     "name": "stderr",
     "output_type": "stream",
     "text": [
      "[Stage 2:>                                                          (0 + 1) / 1]\r"
     ]
    },
    {
     "name": "stdout",
     "output_type": "stream",
     "text": [
      "+-----+--------------------+\n",
      "|   id|            keywords|\n",
      "+-----+--------------------+\n",
      "|  862|[{'id': 931, 'nam...|\n",
      "| 8844|\"[{'id': 10090, '...|\n",
      "|15602|[{'id': 1495, 'na...|\n",
      "|31357|[{'id': 818, 'nam...|\n",
      "|11862|[{'id': 1009, 'na...|\n",
      "|  949|[{'id': 642, 'nam...|\n",
      "|11860|[{'id': 90, 'name...|\n",
      "|45325|                  []|\n",
      "| 9091|[{'id': 949, 'nam...|\n",
      "|  710|[{'id': 701, 'nam...|\n",
      "| 9087|[{'id': 833, 'nam...|\n",
      "|12110|[{'id': 3633, 'na...|\n",
      "|21032|[{'id': 1994, 'na...|\n",
      "|10858|[{'id': 840, 'nam...|\n",
      "| 1408|[{'id': 911, 'nam...|\n",
      "|  524|[{'id': 383, 'nam...|\n",
      "| 4584|[{'id': 420, 'nam...|\n",
      "|    5|\"[{'id': 612, 'na...|\n",
      "| 9273|[{'id': 409, 'nam...|\n",
      "|11517|[{'id': 380, 'nam...|\n",
      "+-----+--------------------+\n",
      "only showing top 20 rows\n",
      "\n"
     ]
    },
    {
     "name": "stderr",
     "output_type": "stream",
     "text": [
      "                                                                                \r"
     ]
    }
   ],
   "source": [
    "df_keywords.show()"
   ]
  },
  {
   "cell_type": "code",
   "execution_count": 10,
   "id": "fd6d01a8-6272-4821-82d4-41d527eef412",
   "metadata": {},
   "outputs": [],
   "source": [
    "# Complex Schema\n",
    "keywords_schema = ArrayType(\n",
    "    StructType([\n",
    "        StructField(\"id\", IntegerType(), True),\n",
    "        StructField(\"name\", StringType(), True)\n",
    "    ])\n",
    ")"
   ]
  },
  {
   "cell_type": "code",
   "execution_count": 11,
   "id": "e47d0422-0aeb-40f7-98b3-5da66c5e14c8",
   "metadata": {},
   "outputs": [],
   "source": [
    "# convert keywords\n",
    "df_keywords = df_keywords.withColumn(\"keywords\", from_json(col(\"keywords\"), keywords_schema))"
   ]
  },
  {
   "cell_type": "code",
   "execution_count": 12,
   "id": "b03d0778-f601-426b-9f12-2da4b9d2f832",
   "metadata": {},
   "outputs": [
    {
     "name": "stderr",
     "output_type": "stream",
     "text": [
      "[Stage 3:>                                                          (0 + 1) / 1]\r"
     ]
    },
    {
     "name": "stdout",
     "output_type": "stream",
     "text": [
      "+-----+--------------------+\n",
      "|   id|            keywords|\n",
      "+-----+--------------------+\n",
      "|  862|[{931, jealousy},...|\n",
      "| 8844|                null|\n",
      "|15602|[{1495, fishing},...|\n",
      "|31357|[{818, based on n...|\n",
      "|11862|[{1009, baby}, {1...|\n",
      "|  949|[{642, robbery}, ...|\n",
      "|11860|[{90, paris}, {38...|\n",
      "|45325|                  []|\n",
      "| 9091|[{949, terrorist}...|\n",
      "|  710|[{701, cuba}, {76...|\n",
      "| 9087|[{833, white hous...|\n",
      "|12110|[{3633, dracula},...|\n",
      "|21032|[{1994, wolf}, {6...|\n",
      "|10858|[{840, usa presid...|\n",
      "| 1408|[{911, exotic isl...|\n",
      "|  524|[{383, poker}, {7...|\n",
      "| 4584|[{420, bowling}, ...|\n",
      "|    5|                null|\n",
      "| 9273|[{409, africa}, {...|\n",
      "|11517|[{380, brother br...|\n",
      "+-----+--------------------+\n",
      "only showing top 20 rows\n",
      "\n"
     ]
    },
    {
     "name": "stderr",
     "output_type": "stream",
     "text": [
      "                                                                                \r"
     ]
    }
   ],
   "source": [
    "df_keywords.show()"
   ]
  },
  {
   "cell_type": "code",
   "execution_count": 23,
   "id": "c0134ee8-ba49-4a79-972b-58b1226134a9",
   "metadata": {},
   "outputs": [],
   "source": [
    "df_exploded = df_keywords.select(\"id\",explode(col(\"keywords\")).alias(\"keyword_data\"))"
   ]
  },
  {
   "cell_type": "code",
   "execution_count": 24,
   "id": "71cde267-84fb-4fab-93b2-69d947efbc89",
   "metadata": {},
   "outputs": [
    {
     "name": "stdout",
     "output_type": "stream",
     "text": [
      "+-----+--------------------+\n",
      "|   id|        keyword_data|\n",
      "+-----+--------------------+\n",
      "|  862|     {931, jealousy}|\n",
      "|  862|         {4290, toy}|\n",
      "|  862|         {5202, boy}|\n",
      "|  862|  {6054, friendship}|\n",
      "|  862|     {9713, friends}|\n",
      "|  862|     {9823, rivalry}|\n",
      "|  862|{165503, boy next...|\n",
      "|  862|   {170722, new toy}|\n",
      "|  862|{187065, toy come...|\n",
      "|15602|     {1495, fishing}|\n",
      "|15602|{12392, best friend}|\n",
      "|15602|{179431, duringcr...|\n",
      "|15602|   {208510, old men}|\n",
      "|31357|{818, based on no...|\n",
      "|31357|{10131, interraci...|\n",
      "|31357|{14768, single mo...|\n",
      "|31357|    {15160, divorce}|\n",
      "|31357|{33455, chick flick}|\n",
      "|11862|        {1009, baby}|\n",
      "|11862|{1599, midlife cr...|\n",
      "+-----+--------------------+\n",
      "only showing top 20 rows\n",
      "\n"
     ]
    }
   ],
   "source": [
    "df_exploded.show()"
   ]
  },
  {
   "cell_type": "code",
   "execution_count": 29,
   "id": "2811a1d0-cb9a-4333-a9be-c424ddb4ee02",
   "metadata": {},
   "outputs": [],
   "source": [
    "df_final = df_exploded.select(\"id\",col(\"keyword_data.id\").alias(\"keywords_id\"), col(\"keyword_data.name\").alias(\"keywords_name\"))"
   ]
  },
  {
   "cell_type": "code",
   "execution_count": 30,
   "id": "2d26e840-7106-437e-a11e-da4fd05acac8",
   "metadata": {},
   "outputs": [
    {
     "name": "stdout",
     "output_type": "stream",
     "text": [
      "+-----+-----------+--------------------+\n",
      "|   id|keywords_id|       keywords_name|\n",
      "+-----+-----------+--------------------+\n",
      "|  862|        931|            jealousy|\n",
      "|  862|       4290|                 toy|\n",
      "|  862|       5202|                 boy|\n",
      "|  862|       6054|          friendship|\n",
      "|  862|       9713|             friends|\n",
      "|  862|       9823|             rivalry|\n",
      "|  862|     165503|       boy next door|\n",
      "|  862|     170722|             new toy|\n",
      "|  862|     187065|   toy comes to life|\n",
      "|15602|       1495|             fishing|\n",
      "|15602|      12392|         best friend|\n",
      "|15602|     179431|duringcreditsstinger|\n",
      "|15602|     208510|             old men|\n",
      "|31357|        818|      based on novel|\n",
      "|31357|      10131|interracial relat...|\n",
      "|31357|      14768|       single mother|\n",
      "|31357|      15160|             divorce|\n",
      "|31357|      33455|         chick flick|\n",
      "|11862|       1009|                baby|\n",
      "|11862|       1599|      midlife crisis|\n",
      "+-----+-----------+--------------------+\n",
      "only showing top 20 rows\n",
      "\n"
     ]
    }
   ],
   "source": [
    "df_final.show()"
   ]
  },
  {
   "cell_type": "code",
   "execution_count": null,
   "id": "29b4387a-6796-44d4-9ca0-0cf9e4561ccc",
   "metadata": {},
   "outputs": [],
   "source": []
  }
 ],
 "metadata": {
  "kernelspec": {
   "display_name": "Python 3 (ipykernel)",
   "language": "python",
   "name": "python3"
  },
  "language_info": {
   "codemirror_mode": {
    "name": "ipython",
    "version": 3
   },
   "file_extension": ".py",
   "mimetype": "text/x-python",
   "name": "python",
   "nbconvert_exporter": "python",
   "pygments_lexer": "ipython3",
   "version": "3.10.9"
  }
 },
 "nbformat": 4,
 "nbformat_minor": 5
}
