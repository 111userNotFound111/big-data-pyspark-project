{
 "cells": [
  {
   "cell_type": "code",
   "execution_count": 1,
   "id": "d4ec2bf3-2982-49fe-b052-8c3125e16bea",
   "metadata": {},
   "outputs": [],
   "source": [
    "import pyspark\n",
    "import re\n",
    "import pandas as pd"
   ]
  },
  {
   "cell_type": "code",
   "execution_count": 2,
   "id": "192bfcf8-6922-4fce-9c0f-335fb0f0cf98",
   "metadata": {},
   "outputs": [],
   "source": [
    "from pyspark.sql import SparkSession\n",
    "from pyspark.sql.functions import explode, from_json, col\n",
    "from pyspark.sql.types import ArrayType, StructType, StructField, StringType, IntegerType"
   ]
  },
  {
   "cell_type": "code",
   "execution_count": 3,
   "id": "7433688f-c0f0-4dc2-b270-9ce7b9939487",
   "metadata": {},
   "outputs": [
    {
     "name": "stdout",
     "output_type": "stream",
     "text": [
      ":: loading settings :: url = jar:file:/opt/spark/jars/ivy-2.5.1.jar!/org/apache/ivy/core/settings/ivysettings.xml\n"
     ]
    },
    {
     "name": "stderr",
     "output_type": "stream",
     "text": [
      "Ivy Default Cache set to: /Users/ray/.ivy2/cache\n",
      "The jars for the packages stored in: /Users/ray/.ivy2/jars\n",
      "com.crealytics#spark-excel_2.12 added as a dependency\n",
      ":: resolving dependencies :: org.apache.spark#spark-submit-parent-6f47dc5e-60e1-4eaf-88c7-7eb1703f9753;1.0\n",
      "\tconfs: [default]\n",
      "\tfound com.crealytics#spark-excel_2.12;3.2.2_0.18.0 in central\n",
      "\tfound org.apache.poi#poi;5.2.2 in central\n",
      "\tfound commons-codec#commons-codec;1.15 in central\n",
      "\tfound org.apache.commons#commons-collections4;4.4 in central\n",
      "\tfound org.apache.commons#commons-math3;3.6.1 in central\n",
      "\tfound commons-io#commons-io;2.11.0 in central\n",
      "\tfound com.zaxxer#SparseBitSet;1.2 in central\n",
      "\tfound org.apache.logging.log4j#log4j-api;2.17.2 in central\n",
      "\tfound org.apache.poi#poi-ooxml;5.2.2 in central\n",
      "\tfound org.apache.poi#poi-ooxml-lite;5.2.2 in central\n",
      "\tfound org.apache.xmlbeans#xmlbeans;5.0.3 in central\n",
      "\tfound org.apache.commons#commons-compress;1.21 in central\n",
      "\tfound com.github.virtuald#curvesapi;1.07 in central\n",
      "\tfound com.norbitltd#spoiwo_2.12;2.2.1 in central\n",
      "\tfound com.github.tototoshi#scala-csv_2.12;1.3.10 in central\n",
      "\tfound com.github.pjfanning#excel-streaming-reader;4.0.1 in central\n",
      "\tfound com.github.pjfanning#poi-shared-strings;2.5.3 in central\n",
      "\tfound org.slf4j#slf4j-api;1.7.36 in central\n",
      "\tfound com.h2database#h2;2.1.212 in central\n",
      "\tfound org.apache.commons#commons-text;1.9 in central\n",
      "\tfound org.apache.commons#commons-lang3;3.11 in central\n",
      "\tfound org.scala-lang.modules#scala-collection-compat_2.12;2.8.1 in central\n",
      ":: resolution report :: resolve 1232ms :: artifacts dl 40ms\n",
      "\t:: modules in use:\n",
      "\tcom.crealytics#spark-excel_2.12;3.2.2_0.18.0 from central in [default]\n",
      "\tcom.github.pjfanning#excel-streaming-reader;4.0.1 from central in [default]\n",
      "\tcom.github.pjfanning#poi-shared-strings;2.5.3 from central in [default]\n",
      "\tcom.github.tototoshi#scala-csv_2.12;1.3.10 from central in [default]\n",
      "\tcom.github.virtuald#curvesapi;1.07 from central in [default]\n",
      "\tcom.h2database#h2;2.1.212 from central in [default]\n",
      "\tcom.norbitltd#spoiwo_2.12;2.2.1 from central in [default]\n",
      "\tcom.zaxxer#SparseBitSet;1.2 from central in [default]\n",
      "\tcommons-codec#commons-codec;1.15 from central in [default]\n",
      "\tcommons-io#commons-io;2.11.0 from central in [default]\n",
      "\torg.apache.commons#commons-collections4;4.4 from central in [default]\n",
      "\torg.apache.commons#commons-compress;1.21 from central in [default]\n",
      "\torg.apache.commons#commons-lang3;3.11 from central in [default]\n",
      "\torg.apache.commons#commons-math3;3.6.1 from central in [default]\n",
      "\torg.apache.commons#commons-text;1.9 from central in [default]\n",
      "\torg.apache.logging.log4j#log4j-api;2.17.2 from central in [default]\n",
      "\torg.apache.poi#poi;5.2.2 from central in [default]\n",
      "\torg.apache.poi#poi-ooxml;5.2.2 from central in [default]\n",
      "\torg.apache.poi#poi-ooxml-lite;5.2.2 from central in [default]\n",
      "\torg.apache.xmlbeans#xmlbeans;5.0.3 from central in [default]\n",
      "\torg.scala-lang.modules#scala-collection-compat_2.12;2.8.1 from central in [default]\n",
      "\torg.slf4j#slf4j-api;1.7.36 from central in [default]\n",
      "\t:: evicted modules:\n",
      "\torg.apache.logging.log4j#log4j-api;2.17.1 by [org.apache.logging.log4j#log4j-api;2.17.2] in [default]\n",
      "\torg.apache.poi#poi;5.2.1 by [org.apache.poi#poi;5.2.2] in [default]\n",
      "\torg.apache.poi#poi-ooxml;5.2.1 by [org.apache.poi#poi-ooxml;5.2.2] in [default]\n",
      "\t---------------------------------------------------------------------\n",
      "\t|                  |            modules            ||   artifacts   |\n",
      "\t|       conf       | number| search|dwnlded|evicted|| number|dwnlded|\n",
      "\t---------------------------------------------------------------------\n",
      "\t|      default     |   25  |   0   |   0   |   3   ||   22  |   0   |\n",
      "\t---------------------------------------------------------------------\n",
      ":: retrieving :: org.apache.spark#spark-submit-parent-6f47dc5e-60e1-4eaf-88c7-7eb1703f9753\n",
      "\tconfs: [default]\n",
      "\t0 artifacts copied, 22 already retrieved (0kB/19ms)\n",
      "23/09/04 19:19:59 WARN NativeCodeLoader: Unable to load native-hadoop library for your platform... using builtin-java classes where applicable\n",
      "Setting default log level to \"WARN\".\n",
      "To adjust logging level use sc.setLogLevel(newLevel). For SparkR, use setLogLevel(newLevel).\n"
     ]
    }
   ],
   "source": [
    "spark = SparkSession \\\n",
    "    .builder \\\n",
    "    .appName(\"Spark_data_clean\") \\\n",
    "    .config(\"spark.master\", \"spark://rayiMac.modem:7077\") \\\n",
    "    .config(\"spark.jars.packages\", \"com.crealytics:spark-excel_2.12:3.2.2_0.18.0\") \\\n",
    "    .config(\"spark.executor.cores\", \"1\") \\\n",
    "    .config(\"spark.executor.num\", \"1\") \\\n",
    "    .getOrCreate()"
   ]
  },
  {
   "cell_type": "code",
   "execution_count": 7,
   "id": "80f941c5-7a64-4e9a-8d6c-590dd95de71f",
   "metadata": {},
   "outputs": [
    {
     "name": "stderr",
     "output_type": "stream",
     "text": [
      "[Stage 4:>                                                          (0 + 1) / 1]\r"
     ]
    },
    {
     "name": "stdout",
     "output_type": "stream",
     "text": [
      "+-------+-------+------+\n",
      "|movieId| imdbId|tmdbId|\n",
      "+-------+-------+------+\n",
      "|      1|0114709|   862|\n",
      "|      2|0113497|  8844|\n",
      "|      3|0113228| 15602|\n",
      "|      4|0114885| 31357|\n",
      "|      5|0113041| 11862|\n",
      "|      6|0113277|   949|\n",
      "|      7|0114319| 11860|\n",
      "|      8|0112302| 45325|\n",
      "|      9|0114576|  9091|\n",
      "|     10|0113189|   710|\n",
      "|     11|0112346|  9087|\n",
      "|     12|0112896| 12110|\n",
      "|     13|0112453| 21032|\n",
      "|     14|0113987| 10858|\n",
      "|     15|0112760|  1408|\n",
      "|     16|0112641|   524|\n",
      "|     17|0114388|  4584|\n",
      "|     18|0113101|     5|\n",
      "|     19|0112281|  9273|\n",
      "|     20|0113845| 11517|\n",
      "+-------+-------+------+\n",
      "only showing top 20 rows\n",
      "\n"
     ]
    },
    {
     "name": "stderr",
     "output_type": "stream",
     "text": [
      "                                                                                \r"
     ]
    }
   ],
   "source": [
    "# load small links \n",
    "df_small_links = spark.read.csv(\"links_small.csv\", header=True, )\n",
    "df_small_links.show()"
   ]
  },
  {
   "cell_type": "code",
   "execution_count": 9,
   "id": "92398879-4d5d-4193-905d-43774a265f24",
   "metadata": {},
   "outputs": [
    {
     "name": "stdout",
     "output_type": "stream",
     "text": [
      "+-------+-------+------+\n",
      "|movieId| imdbId|tmdbId|\n",
      "+-------+-------+------+\n",
      "|      1|0114709|   862|\n",
      "|      2|0113497|  8844|\n",
      "|      3|0113228| 15602|\n",
      "|      4|0114885| 31357|\n",
      "|      5|0113041| 11862|\n",
      "|      6|0113277|   949|\n",
      "|      7|0114319| 11860|\n",
      "|      8|0112302| 45325|\n",
      "|      9|0114576|  9091|\n",
      "|     10|0113189|   710|\n",
      "|     11|0112346|  9087|\n",
      "|     12|0112896| 12110|\n",
      "|     13|0112453| 21032|\n",
      "|     14|0113987| 10858|\n",
      "|     15|0112760|  1408|\n",
      "|     16|0112641|   524|\n",
      "|     17|0114388|  4584|\n",
      "|     18|0113101|     5|\n",
      "|     19|0112281|  9273|\n",
      "|     20|0113845| 11517|\n",
      "+-------+-------+------+\n",
      "only showing top 20 rows\n",
      "\n"
     ]
    }
   ],
   "source": [
    "# load links \n",
    "df_links = spark.read.csv(\"links.csv\", header=True, )\n",
    "df_links.show()"
   ]
  },
  {
   "cell_type": "code",
   "execution_count": null,
   "id": "7b346da9-14f7-4b39-b6f1-101579e676ef",
   "metadata": {},
   "outputs": [],
   "source": []
  }
 ],
 "metadata": {
  "kernelspec": {
   "display_name": "Python 3 (ipykernel)",
   "language": "python",
   "name": "python3"
  },
  "language_info": {
   "codemirror_mode": {
    "name": "ipython",
    "version": 3
   },
   "file_extension": ".py",
   "mimetype": "text/x-python",
   "name": "python",
   "nbconvert_exporter": "python",
   "pygments_lexer": "ipython3",
   "version": "3.10.9"
  }
 },
 "nbformat": 4,
 "nbformat_minor": 5
}
