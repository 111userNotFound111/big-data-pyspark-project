{
 "cells": [
  {
   "cell_type": "code",
   "execution_count": 1,
   "id": "90f60ef9-cd48-4063-b67a-0f37b02dbdf7",
   "metadata": {},
   "outputs": [],
   "source": [
    "import pyspark\n",
    "import re\n",
    "import pandas as pd\n",
    "import ast"
   ]
  },
  {
   "cell_type": "code",
   "execution_count": 2,
   "id": "b44fb82d-4ed8-4292-926e-ca1995b289c8",
   "metadata": {},
   "outputs": [],
   "source": [
    "from pyspark.sql import SparkSession\n",
    "from pyspark.sql import functions\n",
    "from pyspark.sql.functions import explode, from_json, col\n",
    "from pyspark.sql.types import ArrayType, StructType, StructField, StringType, IntegerType, MapType"
   ]
  },
  {
   "cell_type": "code",
   "execution_count": 3,
   "id": "9f5f577b-d63a-4460-b3bd-0fe32a578d91",
   "metadata": {},
   "outputs": [
    {
     "name": "stdout",
     "output_type": "stream",
     "text": [
      ":: loading settings :: url = jar:file:/opt/spark/jars/ivy-2.5.1.jar!/org/apache/ivy/core/settings/ivysettings.xml\n"
     ]
    },
    {
     "name": "stderr",
     "output_type": "stream",
     "text": [
      "Ivy Default Cache set to: /Users/ray/.ivy2/cache\n",
      "The jars for the packages stored in: /Users/ray/.ivy2/jars\n",
      "com.crealytics#spark-excel_2.12 added as a dependency\n",
      ":: resolving dependencies :: org.apache.spark#spark-submit-parent-81858094-df6b-4cc8-8112-4b5eaf7c89be;1.0\n",
      "\tconfs: [default]\n",
      "\tfound com.crealytics#spark-excel_2.12;3.2.2_0.18.0 in central\n",
      "\tfound org.apache.poi#poi;5.2.2 in central\n",
      "\tfound commons-codec#commons-codec;1.15 in central\n",
      "\tfound org.apache.commons#commons-collections4;4.4 in central\n",
      "\tfound org.apache.commons#commons-math3;3.6.1 in central\n",
      "\tfound commons-io#commons-io;2.11.0 in central\n",
      "\tfound com.zaxxer#SparseBitSet;1.2 in central\n",
      "\tfound org.apache.logging.log4j#log4j-api;2.17.2 in central\n",
      "\tfound org.apache.poi#poi-ooxml;5.2.2 in central\n",
      "\tfound org.apache.poi#poi-ooxml-lite;5.2.2 in central\n",
      "\tfound org.apache.xmlbeans#xmlbeans;5.0.3 in central\n",
      "\tfound org.apache.commons#commons-compress;1.21 in central\n",
      "\tfound com.github.virtuald#curvesapi;1.07 in central\n",
      "\tfound com.norbitltd#spoiwo_2.12;2.2.1 in central\n",
      "\tfound com.github.tototoshi#scala-csv_2.12;1.3.10 in central\n",
      "\tfound com.github.pjfanning#excel-streaming-reader;4.0.1 in central\n",
      "\tfound com.github.pjfanning#poi-shared-strings;2.5.3 in central\n",
      "\tfound org.slf4j#slf4j-api;1.7.36 in central\n",
      "\tfound com.h2database#h2;2.1.212 in central\n",
      "\tfound org.apache.commons#commons-text;1.9 in central\n",
      "\tfound org.apache.commons#commons-lang3;3.11 in central\n",
      "\tfound org.scala-lang.modules#scala-collection-compat_2.12;2.8.1 in central\n",
      ":: resolution report :: resolve 1358ms :: artifacts dl 31ms\n",
      "\t:: modules in use:\n",
      "\tcom.crealytics#spark-excel_2.12;3.2.2_0.18.0 from central in [default]\n",
      "\tcom.github.pjfanning#excel-streaming-reader;4.0.1 from central in [default]\n",
      "\tcom.github.pjfanning#poi-shared-strings;2.5.3 from central in [default]\n",
      "\tcom.github.tototoshi#scala-csv_2.12;1.3.10 from central in [default]\n",
      "\tcom.github.virtuald#curvesapi;1.07 from central in [default]\n",
      "\tcom.h2database#h2;2.1.212 from central in [default]\n",
      "\tcom.norbitltd#spoiwo_2.12;2.2.1 from central in [default]\n",
      "\tcom.zaxxer#SparseBitSet;1.2 from central in [default]\n",
      "\tcommons-codec#commons-codec;1.15 from central in [default]\n",
      "\tcommons-io#commons-io;2.11.0 from central in [default]\n",
      "\torg.apache.commons#commons-collections4;4.4 from central in [default]\n",
      "\torg.apache.commons#commons-compress;1.21 from central in [default]\n",
      "\torg.apache.commons#commons-lang3;3.11 from central in [default]\n",
      "\torg.apache.commons#commons-math3;3.6.1 from central in [default]\n",
      "\torg.apache.commons#commons-text;1.9 from central in [default]\n",
      "\torg.apache.logging.log4j#log4j-api;2.17.2 from central in [default]\n",
      "\torg.apache.poi#poi;5.2.2 from central in [default]\n",
      "\torg.apache.poi#poi-ooxml;5.2.2 from central in [default]\n",
      "\torg.apache.poi#poi-ooxml-lite;5.2.2 from central in [default]\n",
      "\torg.apache.xmlbeans#xmlbeans;5.0.3 from central in [default]\n",
      "\torg.scala-lang.modules#scala-collection-compat_2.12;2.8.1 from central in [default]\n",
      "\torg.slf4j#slf4j-api;1.7.36 from central in [default]\n",
      "\t:: evicted modules:\n",
      "\torg.apache.logging.log4j#log4j-api;2.17.1 by [org.apache.logging.log4j#log4j-api;2.17.2] in [default]\n",
      "\torg.apache.poi#poi;5.2.1 by [org.apache.poi#poi;5.2.2] in [default]\n",
      "\torg.apache.poi#poi-ooxml;5.2.1 by [org.apache.poi#poi-ooxml;5.2.2] in [default]\n",
      "\t---------------------------------------------------------------------\n",
      "\t|                  |            modules            ||   artifacts   |\n",
      "\t|       conf       | number| search|dwnlded|evicted|| number|dwnlded|\n",
      "\t---------------------------------------------------------------------\n",
      "\t|      default     |   25  |   0   |   0   |   3   ||   22  |   0   |\n",
      "\t---------------------------------------------------------------------\n",
      ":: retrieving :: org.apache.spark#spark-submit-parent-81858094-df6b-4cc8-8112-4b5eaf7c89be\n",
      "\tconfs: [default]\n",
      "\t0 artifacts copied, 22 already retrieved (0kB/34ms)\n",
      "23/09/12 01:37:43 WARN NativeCodeLoader: Unable to load native-hadoop library for your platform... using builtin-java classes where applicable\n",
      "Setting default log level to \"WARN\".\n",
      "To adjust logging level use sc.setLogLevel(newLevel). For SparkR, use setLogLevel(newLevel).\n"
     ]
    }
   ],
   "source": [
    "spark = SparkSession \\\n",
    "    .builder \\\n",
    "    .appName(\"Spark_data_clean\") \\\n",
    "    .config(\"spark.master\", \"spark://rayiMac.modem:7077\") \\\n",
    "    .config(\"spark.jars.packages\", \"com.crealytics:spark-excel_2.12:3.2.2_0.18.0\") \\\n",
    "    .config(\"spark.executor.cores\", \"1\") \\\n",
    "    .config(\"spark.executor.num\", \"1\") \\\n",
    "    .getOrCreate()"
   ]
  },
  {
   "cell_type": "code",
   "execution_count": 4,
   "id": "4160b4b9-028c-42a4-85c8-75190e4a61a1",
   "metadata": {},
   "outputs": [],
   "source": [
    "# load dataframe\n",
    "def load_dataframe(input_file_name):\n",
    "    df = spark.read.csv(input_file_name, header=True)\n",
    "    return df"
   ]
  },
  {
   "cell_type": "code",
   "execution_count": 5,
   "id": "a6c62d65-b5d5-493b-a453-89f7f5b7f287",
   "metadata": {},
   "outputs": [],
   "source": [
    "# read all column names and output as a list\n",
    "def read_col_names(df_input):\n",
    "    column_names = df_input.columns\n",
    "    return column_names"
   ]
  },
  {
   "cell_type": "code",
   "execution_count": 6,
   "id": "c6fa5d2e-8b31-4dfc-b4e8-19f345af080b",
   "metadata": {},
   "outputs": [],
   "source": [
    "# identify all complex schema columns \n",
    "def find_complex_col(df_input):\n",
    "    complex_columns=[]\n",
    "    norm_columns=[]\n",
    "    # get the first row of each column\n",
    "    first_row = df_input.first()\n",
    "    # if first row is not null\n",
    "    if first_row:\n",
    "        # check if the cell contains complex schema patterns \n",
    "        for col in df_input.columns:\n",
    "            if str(first_row[col]).startswith('[{') or str(first_row[col]).startswith('{'):\n",
    "                if str(first_row[col]).endswith('}]') or str(first_row[col]).endswith('}'):\n",
    "                    complex_columns.append(col)\n",
    "\n",
    "    # also return sorted not complex columns\n",
    "    norm_columns = sorted(list(set(df_input.columns) - set(complex_columns)))\n",
    "    return complex_columns, norm_columns"
   ]
  },
  {
   "cell_type": "markdown",
   "id": "34095a39-c3ee-4051-bae4-3c9239e6364f",
   "metadata": {},
   "source": [
    "## Pre-processing"
   ]
  },
  {
   "cell_type": "code",
   "execution_count": null,
   "id": "0fed970c-5870-49f6-a075-3c6ba217e8d1",
   "metadata": {},
   "outputs": [],
   "source": []
  },
  {
   "cell_type": "markdown",
   "id": "9689d2a3-90c3-4100-b4e0-2e5070963af4",
   "metadata": {},
   "source": [
    "## Auto Construct Complex Schema"
   ]
  },
  {
   "cell_type": "code",
   "execution_count": 7,
   "id": "df4bf320-0465-4400-91da-eefef0f129c1",
   "metadata": {},
   "outputs": [],
   "source": [
    "# get first row contents of each identified complex col\n",
    "def get_col_content(input_col, df_input):\n",
    "    # first_row is currently in str type \n",
    "    first_row = df_input.select(input_col).first()[0]\n",
    "    # convert from str to orginal structure\n",
    "    content_struct = ast.literal_eval(first_row)\n",
    "    return content_struct"
   ]
  },
  {
   "cell_type": "code",
   "execution_count": 8,
   "id": "f80f3677-81fc-4795-a414-a7af3ad8d01a",
   "metadata": {},
   "outputs": [],
   "source": [
    "\n",
    "def create_complex_schema(input_list):\n",
    "    struct_list = []\n",
    "    for key in input_list:\n",
    "        key=str(key)\n",
    "        struct_temp = StructField(key,StringType(), True)\n",
    "        struct_list.append(struct_temp)\n",
    "    #print(struct_list)\n",
    "    complex_schema = ArrayType(StructType(struct_list))\n",
    "    #print(complex_schema)\n",
    "    return complex_schema"
   ]
  },
  {
   "cell_type": "code",
   "execution_count": 9,
   "id": "aaea6d1c-2429-43d9-83a3-d6de1933c3c5",
   "metadata": {},
   "outputs": [],
   "source": [
    "def create_schema(input_content):\n",
    "    content_struct = input_content\n",
    "    # check if the current row is a list \n",
    "    # case 1. list (multiple values in cell)\n",
    "    # case 2. not a list (single value in cell)\n",
    "    # case 1:\n",
    "    if isinstance(content_struct, list): \n",
    "        content = content_struct[0]\n",
    "    # case 2:\n",
    "    else:\n",
    "        content = content_struct\n",
    "\n",
    "    # get all the keyvalues\n",
    "    key_list = list(content.keys())\n",
    "    #print(key_list)\n",
    "\n",
    "    complex_schema=create_complex_schema(key_list)\n",
    "    \n",
    "    #print(complex_schema)\n",
    "    return complex_schema, key_list\n"
   ]
  },
  {
   "cell_type": "code",
   "execution_count": 10,
   "id": "7ee97c5b-606a-4741-b2c4-5b1d4f5f4c89",
   "metadata": {},
   "outputs": [],
   "source": [
    "# for each complex schema column, construct complex schema \n",
    "# 1. get content \n",
    "# 2. analyse content and store key in a list\n",
    "# 3. construct complex schema \n",
    "# 4. store in a dicitonary in the format {col_name : schema}\n",
    "\n",
    "def auto_schema(input_col_list, input_df):\n",
    "    schema_dict={}\n",
    "    col_dict={}\n",
    "    for col in input_col_list:\n",
    "        content=get_col_content(col, input_df)\n",
    "        schema,col_list=create_schema(content)\n",
    "        col_dict[col]=col_list\n",
    "        schema_dict[col]=schema\n",
    "\n",
    "    return schema_dict,col_dict"
   ]
  },
  {
   "cell_type": "markdown",
   "id": "7d08622a-9844-4991-b90d-653fa14c8130",
   "metadata": {},
   "source": [
    "## Transformation"
   ]
  },
  {
   "cell_type": "code",
   "execution_count": 11,
   "id": "e38cbde7-d949-4824-b9e6-982a4f11f644",
   "metadata": {},
   "outputs": [],
   "source": [
    "def transformation(input_df , input_key, col_name, input_schema):\n",
    "    col_name = str(col_name)\n",
    "    primary_key = str(input_key)\n",
    "    # select col_name in file, import column as json format and apply complex schema to column \n",
    "    input_df = input_df.withColumn(col_name, from_json(col(col_name), input_schema))\n",
    "    # explode the column with primary key, rename the exploded result\n",
    "    df_exploded = input_df.select(primary_key, explode(col(col_name)))\n",
    "    return df_exploded"
   ]
  },
  {
   "cell_type": "code",
   "execution_count": 12,
   "id": "2b32f04d-4eee-4cc2-8927-6c06bece8148",
   "metadata": {},
   "outputs": [],
   "source": [
    "def flatten_columns(input_list, df, keys):\n",
    "\n",
    "    # Create a list of columns to select based on the input_list\n",
    "    selected_columns = [col(\"col\" + \".\" + field).alias(f\"{keys}_{field}\") for field in input_list]\n",
    "    return df.select(\"id\", *selected_columns)\n",
    "    "
   ]
  },
  {
   "cell_type": "code",
   "execution_count": 13,
   "id": "ddb8bbc1-8a73-4ba4-be4d-eba403dafdb3",
   "metadata": {},
   "outputs": [],
   "source": [
    "def group_by_id(input_df):\n",
    "    columns_to_group = [col_name for col_name in input_df.columns if col_name != 'id']\n",
    "    agg_exprs = [functions.collect_list(col_name).alias(col_name) for col_name in columns_to_group]\n",
    "    grouped_df = input_df.groupBy(\"id\").agg(*agg_exprs)\n",
    "    return grouped_df\n",
    "    "
   ]
  },
  {
   "cell_type": "code",
   "execution_count": 14,
   "id": "5440be8b-5910-4131-90c7-41a0bd08c88e",
   "metadata": {},
   "outputs": [],
   "source": [
    "def transformation_execute(input_df, input_schema_dict, col_name_dict):\n",
    "    # transform input raw dataframe into new dataframe with separatednested column\n",
    "    output_df=input_df\n",
    "    # input schema dict : {complex column name : complex schema struct}\n",
    "    for keys in input_schema_dict.keys():\n",
    "        new_name_list=col_name_dict[keys]    \n",
    "        col_name=keys\n",
    "        col_schema= input_schema_dict[keys]\n",
    "        \n",
    "        # explode multivalue cells \n",
    "        process_df=transformation(input_df, \"id\", col_name, col_schema)\n",
    "        # flattern / separate nested columns\n",
    "        process_df=flatten_columns(new_name_list, process_df, col_name)\n",
    "        # group by same id key\n",
    "        groupedby_df=group_by_id(process_df)\n",
    "        # sort by id \n",
    "        #process_df=process_df.orderBy(\"id\")\n",
    "        groupedby_sorted_df=groupedby_df.orderBy(\"id\")\n",
    "        # transform input dataframe with new dataframe \n",
    "        output_df=output_df.join(groupedby_sorted_df, on=\"id\", how=\"left_outer\")\n",
    "        output_df=output_df.drop(col_name)\n",
    "\n",
    "\n",
    "    return output_df"
   ]
  },
  {
   "cell_type": "code",
   "execution_count": null,
   "id": "4cefa3ed-e74e-465b-ba15-e624368143b8",
   "metadata": {},
   "outputs": [],
   "source": []
  },
  {
   "cell_type": "markdown",
   "id": "1606b190-2403-46f1-a24f-8d475fbda8d6",
   "metadata": {},
   "source": [
    "## Execution Function"
   ]
  },
  {
   "cell_type": "code",
   "execution_count": 15,
   "id": "7c10de30-0359-4916-98d9-ff87c526aba4",
   "metadata": {},
   "outputs": [],
   "source": [
    "def execution(input_df_name:str):\n",
    "    # raw data loading\n",
    "    df_raw = load_dataframe(input_df_name)\n",
    "    df_raw.cache()\n",
    "    \n",
    "    \"\"\"\n",
    "    # data preprocessing\n",
    "    # add here\n",
    "    \"\"\"\n",
    "    \n",
    "    # data processing\n",
    "    col_names = read_col_names(df_raw)\n",
    "    complex_col, norm_columns = find_complex_col(df_raw)\n",
    "    # store { old_col_name : complex_schema }\n",
    "    complex_schema_dict={}\n",
    "    # store { old_col_name : new_col_names }\n",
    "    col_name_dict={}\n",
    "    \n",
    "    # if complex_col exists\n",
    "    if complex_col:\n",
    "        # complex schema \n",
    "        complex_schema_dict, col_name_dict = auto_schema(complex_col, df_raw)\n",
    "        # transform raw dataframe into desireable dataframe\n",
    "        result_df=transformation_execute(df_raw, complex_schema_dict, col_name_dict)\n",
    "    else:\n",
    "        result_df=df_raw\n",
    "    result_df.show(truncate=False)"
   ]
  },
  {
   "cell_type": "code",
   "execution_count": 16,
   "id": "75b7cdab-85a4-4b0b-9f18-ba7c1a8cd9bb",
   "metadata": {},
   "outputs": [],
   "source": [
    "def main():\n",
    "    execution(\"keywords.csv\")\n",
    "    execution(\"ratings.csv\")\n",
    "    execution(\"links.csv\")\n",
    "    execution(\"movies_metadata.csv\")"
   ]
  },
  {
   "cell_type": "code",
   "execution_count": 17,
   "id": "32770163-1ca2-48f1-93d7-206014b01eda",
   "metadata": {},
   "outputs": [
    {
     "name": "stderr",
     "output_type": "stream",
     "text": [
      "                                                                                \r"
     ]
    },
    {
     "name": "stdout",
     "output_type": "stream",
     "text": [
      "+-----+--------------------------------------------------------------------------------------------------------------------------------------------------------------------------+--------------------------------------------------------------------------------------------------------------------------------------------------------------------------------------------------------------------------------------------------------+\n",
      "|id   |keywords_id                                                                                                                                                               |keywords_name                                                                                                                                                                                                                                           |\n",
      "+-----+--------------------------------------------------------------------------------------------------------------------------------------------------------------------------+--------------------------------------------------------------------------------------------------------------------------------------------------------------------------------------------------------------------------------------------------------+\n",
      "|862  |[931, 4290, 5202, 6054, 9713, 9823, 165503, 170722, 187065]                                                                                                               |[jealousy, toy, boy, friendship, friends, rivalry, boy next door, new toy, toy comes to life]                                                                                                                                                           |\n",
      "|8844 |null                                                                                                                                                                      |null                                                                                                                                                                                                                                                    |\n",
      "|15602|[1495, 12392, 179431, 208510]                                                                                                                                             |[fishing, best friend, duringcreditsstinger, old men]                                                                                                                                                                                                   |\n",
      "|31357|[818, 10131, 14768, 15160, 33455]                                                                                                                                         |[based on novel, interracial relationship, single mother, divorce, chick flick]                                                                                                                                                                         |\n",
      "|11862|[1009, 1599, 2246, 4995, 5600, 10707, 13149, 33358, 170521]                                                                                                               |[baby, midlife crisis, confidence, aging, daughter, mother daughter relationship, pregnancy, contraception, gynecologist]                                                                                                                               |\n",
      "|949  |[642, 703, 974, 1523, 3713, 7281, 9727, 9812, 9826, 9937, 10051, 10085, 10594, 10726, 15076, 18023, 34117, 156121, 159343, 159434, 167104, 192261, 207268, 208009, 214983]|[robbery, detective, bank, obsession, chase, shooting, thief, honor, murder, suspense, heist, betrayal, money, gang, cat and mouse, criminal mastermind, cult film, ex-con, heist movie, one last job, loner, bank job, neo-noir, gun fight, crime epic]|\n",
      "|11860|[90, 380, 2072, 9398, 9492, 33626]                                                                                                                                        |[paris, brother brother relationship, chauffeur, long island, fusion, millionaire]                                                                                                                                                                      |\n",
      "|45325|null                                                                                                                                                                      |null                                                                                                                                                                                                                                                    |\n",
      "|9091 |[949, 1562, 1653, 193533]                                                                                                                                                 |[terrorist, hostage, explosive, vice president]                                                                                                                                                                                                         |\n",
      "|710  |[701, 769, 1308, 2812, 3268, 3272, 3278, 3376, 3531, 3560, 3561, 3562, 3563, 3564, 193008]                                                                                |[cuba, falsely accused, secret identity, computer virus, secret base, secret intelligence service, kgb, satellite, special car, cossack, electromagnetic pulse, time bomb, st. petersburg russia, ejection seat, red army]                              |\n",
      "|9087 |[833, 840, 1605, 33476, 211505]                                                                                                                                           |[white house, usa president, new love, widower, wildlife conservation]                                                                                                                                                                                  |\n",
      "|12110|[3633, 11931]                                                                                                                                                             |[dracula, spoof]                                                                                                                                                                                                                                        |\n",
      "|21032|[1994, 6411, 9880, 15162, 15169, 158175, 158370, 158371]                                                                                                                  |[wolf, dog-sledding race, alaska, dog, goose, bear attack, dog sled, frozen lake]                                                                                                                                                                       |\n",
      "|10858|[840, 2946, 4240, 5565, 6086, 6165]                                                                                                                                       |[usa president, presidential election, watergate scandal, biography, government, historical figure]                                                                                                                                                     |\n",
      "|1408 |[911, 1454, 1969, 3799, 5470, 12988]                                                                                                                                      |[exotic island, treasure, map, ship, scalp, pirate]                                                                                                                                                                                                     |\n",
      "|524  |[383, 726, 1228, 2635, 33625]                                                                                                                                             |[poker, drug abuse, 1970s, overdose, illegal prostitution]                                                                                                                                                                                              |\n",
      "|4584 |[420, 818, 964, 2755, 7564, 10911, 11109, 15060, 156507, 156510, 156512]                                                                                                  |[bowling, based on novel, servant, country life, jane austen, inheritance, military officer, period drama, rainstorm, horse and carriage, decorum]                                                                                                      |\n",
      "|5    |null                                                                                                                                                                      |null                                                                                                                                                                                                                                                    |\n",
      "|9273 |[409, 1551, 2526, 5155]                                                                                                                                                   |[africa, indigenous, human animal relationship, bat]                                                                                                                                                                                                    |\n",
      "|11517|[380, 1552, 14512, 155735, 156120]                                                                                                                                        |[brother brother relationship, subway, new york city, new york subway, train robbery]                                                                                                                                                                   |\n",
      "+-----+--------------------------------------------------------------------------------------------------------------------------------------------------------------------------+--------------------------------------------------------------------------------------------------------------------------------------------------------------------------------------------------------------------------------------------------------+\n",
      "only showing top 20 rows\n",
      "\n"
     ]
    },
    {
     "name": "stderr",
     "output_type": "stream",
     "text": [
      "                                                                                \r"
     ]
    },
    {
     "name": "stdout",
     "output_type": "stream",
     "text": [
      "+------+-------+------+----------+\n",
      "|userId|movieId|rating|timestamp |\n",
      "+------+-------+------+----------+\n",
      "|1     |110    |1.0   |1425941529|\n",
      "|1     |147    |4.5   |1425942435|\n",
      "|1     |858    |5.0   |1425941523|\n",
      "|1     |1221   |5.0   |1425941546|\n",
      "|1     |1246   |5.0   |1425941556|\n",
      "|1     |1968   |4.0   |1425942148|\n",
      "|1     |2762   |4.5   |1425941300|\n",
      "|1     |2918   |5.0   |1425941593|\n",
      "|1     |2959   |4.0   |1425941601|\n",
      "|1     |4226   |4.0   |1425942228|\n",
      "|1     |4878   |5.0   |1425941434|\n",
      "|1     |5577   |5.0   |1425941397|\n",
      "|1     |33794  |4.0   |1425942005|\n",
      "|1     |54503  |3.5   |1425941313|\n",
      "|1     |58559  |4.0   |1425942007|\n",
      "|1     |59315  |5.0   |1425941502|\n",
      "|1     |68358  |5.0   |1425941464|\n",
      "|1     |69844  |5.0   |1425942139|\n",
      "|1     |73017  |5.0   |1425942699|\n",
      "|1     |81834  |5.0   |1425942133|\n",
      "+------+-------+------+----------+\n",
      "only showing top 20 rows\n",
      "\n"
     ]
    },
    {
     "name": "stderr",
     "output_type": "stream",
     "text": [
      "                                                                                \r"
     ]
    },
    {
     "name": "stdout",
     "output_type": "stream",
     "text": [
      "+-------+-------+------+\n",
      "|movieId|imdbId |tmdbId|\n",
      "+-------+-------+------+\n",
      "|1      |0114709|862   |\n",
      "|2      |0113497|8844  |\n",
      "|3      |0113228|15602 |\n",
      "|4      |0114885|31357 |\n",
      "|5      |0113041|11862 |\n",
      "|6      |0113277|949   |\n",
      "|7      |0114319|11860 |\n",
      "|8      |0112302|45325 |\n",
      "|9      |0114576|9091  |\n",
      "|10     |0113189|710   |\n",
      "|11     |0112346|9087  |\n",
      "|12     |0112896|12110 |\n",
      "|13     |0112453|21032 |\n",
      "|14     |0113987|10858 |\n",
      "|15     |0112760|1408  |\n",
      "|16     |0112641|524   |\n",
      "|17     |0114388|4584  |\n",
      "|18     |0113101|5     |\n",
      "|19     |0112281|9273  |\n",
      "|20     |0113845|11517 |\n",
      "+-------+-------+------+\n",
      "only showing top 20 rows\n",
      "\n"
     ]
    },
    {
     "name": "stderr",
     "output_type": "stream",
     "text": [
      "23/09/12 01:38:41 WARN package: Truncated the string representation of a plan since it was too large. This behavior can be adjusted by setting 'spark.sql.debug.maxToStringFields'.\n",
      "                                                                                \r"
     ]
    },
    {
     "name": "stdout",
     "output_type": "stream",
     "text": [
      "+-----+-----+--------+--------------------------------------------+---------+-----------------+------------------------------+----------------------------------------------------------------------------------------------------------------------------------------------------------------------------------------------------------------------------------------------------------------------------------------------------------------------------------------------------------------------------------------------------------------------------------------------------------------+----------+--------------------------------+--------------------------------+---------------------------------------------------------------+----------------------------------------------------------+--------+-----------------------------------------------------------------------------------------------------------------------------------------------------------+----------------------------------------+--------+------------------------------------------------------------------------------+-----------------+------------------------+--------------------------------+----------------------------------+-----------------------------------+-------------------+----------------------------------+---------------------------------------------------------------------------------------------------------------------------------------------------------------+----------------------------------------+-------------------------------+--------------------------------------------------+--------------------------+---------------------------+\n",
      "|id   |adult|budget  |homepage                                    |imdb_id  |original_language|original_title                |overview                                                                                                                                                                                                                                                                                                                                                                                                                                                        |popularity|poster_path                     |release_date                    |revenue                                                        |runtime                                                   |status  |tagline                                                                                                                                                    |title                                   |video   |vote_average                                                                  |vote_count       |belongs_to_collection_id|belongs_to_collection_name      |belongs_to_collection_poster_path |belongs_to_collection_backdrop_path|genres_id          |genres_name                       |production_companies_name                                                                                                                                      |production_companies_id                 |production_countries_iso_3166_1|production_countries_name                         |spoken_languages_iso_639_1|spoken_languages_name      |\n",
      "+-----+-----+--------+--------------------------------------------+---------+-----------------+------------------------------+----------------------------------------------------------------------------------------------------------------------------------------------------------------------------------------------------------------------------------------------------------------------------------------------------------------------------------------------------------------------------------------------------------------------------------------------------------------+----------+--------------------------------+--------------------------------+---------------------------------------------------------------+----------------------------------------------------------+--------+-----------------------------------------------------------------------------------------------------------------------------------------------------------+----------------------------------------+--------+------------------------------------------------------------------------------+-----------------+------------------------+--------------------------------+----------------------------------+-----------------------------------+-------------------+----------------------------------+---------------------------------------------------------------------------------------------------------------------------------------------------------------+----------------------------------------+-------------------------------+--------------------------------------------------+--------------------------+---------------------------+\n",
      "|862  |False|30000000|http://toystory.disney.com/toy-story        |tt0114709|en               |Toy Story                     |Led by Woody, Andy's toys live happily in his room until Andy's birthday brings Buzz Lightyear onto the scene. Afraid of losing his place in Andy's heart, Woody plots against Buzz. But when circumstances separate Buzz and Woody from their owner, the duo eventually learns to put aside their differences.                                                                                                                                                 |21.946943 |/rhIRbceoE9lR4veEXuwCC2wARtG.jpg|1995-10-30                      |373554033                                                      |81.0                                                      |Released|null                                                                                                                                                       |Toy Story                               |False   |7.7                                                                           |5415             |[10194]                 |[Toy Story Collection]          |[/7G9915LfUQ2lVfwMEEhDsn3kT4B.jpg]|[/9FBwqcd9IRruEDUrTdcaafOMKUq.jpg] |[16, 35, 10751]    |[Animation, Comedy, Family]       |[Pixar Animation Studios]                                                                                                                                      |[3]                                     |[US]                           |[United States of America]                        |[en]                      |[English]                  |\n",
      "|8844 |False|65000000|null                                        |tt0113497|en               |Jumanji                       |When siblings Judy and Peter discover an enchanted board game that opens the door to a magical world, they unwittingly invite Alan -- an adult who's been trapped inside the game for 26 years -- into their living room. Alan's only hope for freedom is to finish the game, which proves risky as all three find themselves running from giant rhinoceroses, evil monkeys and other terrifying creatures.                                                     |17.015539 |/vzmL6fP7aPKNKPRTFnZmiUfciyV.jpg|1995-12-15                      |262797249                                                      |104.0                                                     |Released|Roll the dice and unleash the excitement!                                                                                                                  |Jumanji                                 |False   |6.9                                                                           |2413             |null                    |null                            |null                              |null                               |[12, 14, 10751]    |[Adventure, Fantasy, Family]      |[TriStar Pictures, Teitler Film, Interscope Communications]                                                                                                    |[559, 2550, 10201]                      |[US]                           |[United States of America]                        |[en, fr]                  |[English, Français]        |\n",
      "|15602|False|0       |null                                        |tt0113228|en               |Grumpier Old Men              |A family wedding reignites the ancient feud between next-door neighbors and fishing buddies John and Max. Meanwhile, a sultry Italian divorcée opens a restaurant at the local bait shop, alarming the locals who worry she'll scare the fish away. But she's less interested in seafood than she is in cooking up a hot time with Max.                                                                                                                         |11.7129   |/6ksm1sjKMFLbO7UY2i6G1ju9SML.jpg|1995-12-22                      |0                                                              |101.0                                                     |Released|Still Yelling. Still Fighting. Still Ready for Love.                                                                                                       |Grumpier Old Men                        |False   |6.5                                                                           |92               |[119050]                |[Grumpy Old Men Collection]     |[/nLvUdqgPgm3F85NMCii9gVFUcet.jpg]|[/hypTnLot2z8wpFS7qwsQHW1uV8u.jpg] |[10749, 35]        |[Romance, Comedy]                 |[Warner Bros., Lancaster Gate]                                                                                                                                 |[6194, 19464]                           |[US]                           |[United States of America]                        |[en]                      |[English]                  |\n",
      "|31357|False|16000000|null                                        |tt0114885|en               |Waiting to Exhale             |\"Cheated on, mistreated and stepped on, the women are holding their breath, waiting for the elusive \"\"good man\"\" to break a string of less-than-stellar lovers. Friends and confidants Vannah                                                                                                                                                                                                                                                                   | Bernie   | Glo and Robin talk it all out  |/16XOMpEaLWkrcPqSQqhTmeJuqQl.jpg|[{'name': 'Twentieth Century Fox Film Corporation', 'id': 306}]|[{'iso_3166_1': 'US', 'name': 'United States of America'}]|81452156|127.0                                                                                                                                                      |[{'iso_639_1': 'en', 'name': 'English'}]|Released|Friends are the people who let you be yourself... and never let you forget it.|Waiting to Exhale|null                    |null                            |null                              |null                               |[35, 18, 10749]    |[Comedy, Drama, Romance]          |null                                                                                                                                                           |null                                    |null                           |null                                              |null                      |null                       |\n",
      "|11862|False|0       |null                                        |tt0113041|en               |Father of the Bride Part II   |Just when George Banks has recovered from his daughter's wedding, he receives the news that she's pregnant ... and that George's wife, Nina, is expecting too. He was planning on selling their home, but that's a plan that -- like George -- will have to change with the arrival of both a grandchild and a kid of his own.                                                                                                                                  |8.387519  |/e64sOI48hQXyru7naBFyssKFxVd.jpg|1995-02-10                      |76578911                                                       |106.0                                                     |Released|Just When His World Is Back To Normal... He's In For The Surprise Of His Life!                                                                             |Father of the Bride Part II             |False   |5.7                                                                           |173              |[96871]                 |[Father of the Bride Collection]|[/nts4iOmNnq7GNicycMJ9pSAn204.jpg]|[/7qwE57OVZmMJChBpLEbJEmzUydk.jpg] |[35]               |[Comedy]                          |[Sandollar Productions, Touchstone Pictures]                                                                                                                   |[5842, 9195]                            |[US]                           |[United States of America]                        |[en]                      |[English]                  |\n",
      "|949  |False|60000000|null                                        |tt0113277|en               |Heat                          |Obsessive master thief, Neil McCauley leads a top-notch crew on various insane heists throughout Los Angeles while a mentally unstable detective, Vincent Hanna pursues him without rest. Each man recognizes and respects the ability and the dedication of the other even though they are aware their cat-and-mouse game may end in violence.                                                                                                                 |17.924927 |/zMyfPUelumio3tiDKPffaUpsQTD.jpg|1995-12-15                      |187436818                                                      |170.0                                                     |Released|A Los Angeles Crime Saga                                                                                                                                   |Heat                                    |False   |7.7                                                                           |1886             |null                    |null                            |null                              |null                               |[28, 80, 18, 53]   |[Action, Crime, Drama, Thriller]  |[Regency Enterprises, Forward Pass, Warner Bros.]                                                                                                              |[508, 675, 6194]                        |[US]                           |[United States of America]                        |[en, es]                  |[English, Español]         |\n",
      "|11860|False|58000000|null                                        |tt0114319|en               |Sabrina                       |An ugly duckling having undergone a remarkable change, still harbors feelings for her crush: a carefree playboy, but not before his business-focused brother has something to say about it.                                                                                                                                                                                                                                                                     |6.677277  |/jQh15y5YB7bWz1NtffNZmRw0s9D.jpg|1995-12-15                      |0                                                              |127.0                                                     |Released|You are cordially invited to the most surprising merger of the year.                                                                                       |Sabrina                                 |False   |6.2                                                                           |141              |null                    |null                            |null                              |null                               |[35, 10749]        |[Comedy, Romance]                 |[Paramount Pictures, Scott Rudin Productions, Mirage Enterprises, Sandollar Productions, Constellation Entertainment, Worldwide, Mont Blanc Entertainment GmbH]|[4, 258, 932, 5842, 14941, 55873, 58079]|[DE, US]                       |[Germany, United States of America]               |[fr, en]                  |[Français, English]        |\n",
      "|45325|False|0       |null                                        |tt0112302|en               |Tom and Huck                  |A mischievous young boy, Tom Sawyer, witnesses a murder by the deadly Injun Joe. Tom becomes friends with Huckleberry Finn, a boy with no future and no family. Tom has to choose between honoring a friendship or honoring an oath because the town alcoholic is accused of the murder. Tom and Huck go through several adventures trying to retrieve evidence.                                                                                                |2.561161  |/sGO5Qa55p7wTu7FJcX4H4xIVKvS.jpg|1995-12-22                      |0                                                              |97.0                                                      |Released|The Original Bad Boys.                                                                                                                                     |Tom and Huck                            |False   |5.4                                                                           |45               |null                    |null                            |null                              |null                               |[28, 12, 18, 10751]|[Action, Adventure, Drama, Family]|[Walt Disney Pictures]                                                                                                                                         |[2]                                     |[US]                           |[United States of America]                        |[en, de]                  |[English, Deutsch]         |\n",
      "|9091 |False|35000000|null                                        |tt0114576|en               |Sudden Death                  |International action superstar Jean Claude Van Damme teams with Powers Boothe in a Tension-packed, suspense thriller, set against the back-drop of a Stanley Cup game.Van Damme portrays a father whose daughter is suddenly taken during a championship hockey game. With the captors demanding a billion dollars by game's end, Van Damme frantically sets a plan in motion to rescue his daughter and abort an impending explosion before the final buzzer...|5.23158   |/eoWvKD60lT95Ss1MYNgVExpo5iU.jpg|1995-12-22                      |64350171                                                       |106.0                                                     |Released|Terror goes into overtime.                                                                                                                                 |Sudden Death                            |False   |5.5                                                                           |174              |null                    |null                            |null                              |null                               |[28, 12, 53]       |[Action, Adventure, Thriller]     |[Universal Pictures, Imperial Entertainment, Signature Entertainment]                                                                                          |[33, 21437, 23770]                      |[US]                           |[United States of America]                        |[en]                      |[English]                  |\n",
      "|710  |False|58000000|http://www.mgm.com/view/movie/757/Goldeneye/|tt0113189|en               |GoldenEye                     |James Bond must unmask the mysterious head of the Janus Syndicate and prevent the leader from utilizing the GoldenEye weapons system to inflict devastating revenge on Britain.                                                                                                                                                                                                                                                                                 |14.686036 |/5c0ovjT41KnYIHYuF4AWsTe3sKh.jpg|1995-11-16                      |352194034                                                      |130.0                                                     |Released|No limits. No fears. No substitutes.                                                                                                                       |GoldenEye                               |False   |6.6                                                                           |1194             |[645]                   |[James Bond Collection]         |[/HORpg5CSkmeQlAolx3bKMrKgfi.jpg] |[/6VcVl48kNKvdXOZfJPdarlUGOsk.jpg] |[12, 28, 53]       |[Adventure, Action, Thriller]     |[United Artists, Eon Productions]                                                                                                                              |[60, 7576]                              |[GB, US]                       |[United Kingdom, United States of America]        |[en, ru, es]              |[English, Pусский, Español]|\n",
      "|9087 |False|62000000|null                                        |tt0112346|en               |The American President        |Widowed U.S. president Andrew Shepherd, one of the world's most powerful men, can have anything he wants -- and what he covets most is Sydney Ellen Wade, a Washington lobbyist. But Shepherd's attempts at courting her spark wild rumors and decimate his approval ratings.                                                                                                                                                                                   |6.318445  |/lymPNGLZgPHuqM29rKMGV46ANij.jpg|1995-11-17                      |107879496                                                      |106.0                                                     |Released|Why can't the most powerful man in the world have the one thing he wants most?                                                                             |The American President                  |False   |6.5                                                                           |199              |null                    |null                            |null                              |null                               |[35, 18, 10749]    |[Comedy, Drama, Romance]          |[Columbia Pictures, Castle Rock Entertainment]                                                                                                                 |[5, 97]                                 |[US]                           |[United States of America]                        |[en]                      |[English]                  |\n",
      "|12110|False|0       |null                                        |tt0112896|en               |Dracula: Dead and Loving It   |When a lawyer shows up at the vampire's doorstep, he falls prey to his charms and joins him in his search for fresh blood. Enter Dr. van Helsing, who may be the only one able to vanquish the count.                                                                                                                                                                                                                                                           |5.430331  |/xve4cgfYItnOhtzLYoTwTVy5FGr.jpg|1995-12-22                      |0                                                              |88.0                                                      |Released|null                                                                                                                                                       |Dracula: Dead and Loving It             |False   |5.7                                                                           |210              |null                    |null                            |null                              |null                               |[35, 27]           |[Comedy, Horror]                  |[Columbia Pictures, Castle Rock Entertainment, Enigma Pictures]                                                                                                |[5, 97, 6368]                           |[FR, US]                       |[France, United States of America]                |[en, de]                  |[English, Deutsch]         |\n",
      "|21032|False|0       |null                                        |tt0112453|en               |Balto                         |An outcast half-wolf risks his life to prevent a deadly epidemic from ravaging Nome, Alaska.                                                                                                                                                                                                                                                                                                                                                                    |12.140733 |/gV5PCAVCPNxlOLFM1bKk50EqLXO.jpg|1995-12-22                      |11348324                                                       |78.0                                                      |Released|Part Dog. Part Wolf. All Hero.                                                                                                                             |Balto                                   |False   |7.1                                                                           |423              |[117693]                |[Balto Collection]              |[/w0ZgH6Lgxt2bQYnf1ss74UvYftm.jpg]|[/9VM5LiJV0bGb1st1KyHA3cVnO2G.jpg] |[10751, 16, 12]    |[Family, Animation, Adventure]    |[Universal Pictures, Amblin Entertainment, Amblimation]                                                                                                        |[33, 56, 4105]                          |[US]                           |[United States of America]                        |[en]                      |[English]                  |\n",
      "|10858|False|44000000|null                                        |tt0113987|en               |Nixon                         |An all-star cast powers this epic look at American President Richard M. Nixon, a man carrying the fate of the world on his shoulders while battling the self-destructive demands within. Spanning his troubled boyhood in California to the shocking Watergate scandal that would end his presidency.                                                                                                                                                           |5.092     |/cICkmCEiXRhvZmbuAlsA5D9B2rK.jpg|1995-12-22                      |13681765                                                       |192.0                                                     |Released|Triumphant in Victory, Bitter in Defeat. He Changed the World, But Lost a Nation.                                                                          |Nixon                                   |False   |7.1                                                                           |72               |null                    |null                            |null                              |null                               |[36, 18]           |[History, Drama]                  |[Hollywood Pictures, Cinergi Pictures Entertainment]                                                                                                           |[915, 1504]                             |[US]                           |[United States of America]                        |[en]                      |[English]                  |\n",
      "|1408 |False|98000000|null                                        |tt0112760|en               |Cutthroat Island              |Morgan Adams and her slave, William Shaw, are on a quest to recover the three portions of a treasure map. Unfortunately, the final portion is held by her murderous uncle, Dawg. Her crew is skeptical of her leadership abilities, so she must complete her quest before they mutiny against her. This is made yet more difficult by the efforts of the British crown to end her pirate raids.                                                                 |7.284477  |/odM9973kIv9hcjfHPp6g6BlyTIJ.jpg|1995-12-22                      |10017322                                                       |119.0                                                     |Released|The Course Has Been Set. There Is No Turning Back. Prepare Your Weapons. Summon Your Courage. Discover the Adventure of a Lifetime!                        |Cutthroat Island                        |False   |5.7                                                                           |137              |null                    |null                            |null                              |null                               |[28, 12]           |[Action, Adventure]               |[Le Studio Canal+, Laurence Mark Productions, Metro-Goldwyn-Mayer (MGM), Carolco Pictures]                                                                     |[183, 415, 8411, 14723]                 |[FR, DE, IT, US]               |[France, Germany, Italy, United States of America]|[en, la]                  |[English, Latin]           |\n",
      "|524  |False|52000000|null                                        |tt0112641|en               |Casino                        |The life of the gambling paradise – Las Vegas – and its dark mafia underbelly.                                                                                                                                                                                                                                                                                                                                                                                  |10.137389 |/xo517ibXBDdYQY81j0WIG7BVcWq.jpg|1995-11-22                      |116112375                                                      |178.0                                                     |Released|No one stays at the top forever.                                                                                                                           |Casino                                  |False   |7.8                                                                           |1343             |null                    |null                            |null                              |null                               |[18, 80]           |[Drama, Crime]                    |[Universal Pictures, Légende Entreprises, Syalis DA, De Fina-Cappa]                                                                                            |[33, 10898, 11583, 11584]               |[FR, US]                       |[France, United States of America]                |[en]                      |[English]                  |\n",
      "|4584 |False|16500000|null                                        |tt0114388|en               |Sense and Sensibility         |Rich Mr. Dashwood dies, leaving his second wife and her daughters poor by the rules of inheritance. Two daughters are the titular opposites.                                                                                                                                                                                                                                                                                                                    |10.673167 |/lA9HTy84Bb6ZwNeyoZKobcMdpMc.jpg|1995-12-13                      |135000000                                                      |136.0                                                     |Released|Lose your heart and come to your senses.                                                                                                                   |Sense and Sensibility                   |False   |7.2                                                                           |364              |null                    |null                            |null                              |null                               |[18, 10749]        |[Drama, Romance]                  |[Columbia Pictures Corporation, Mirage Enterprises]                                                                                                            |[441, 932]                              |[GB, US]                       |[United Kingdom, United States of America]        |[en]                      |[English]                  |\n",
      "|5    |False|4000000 |null                                        |tt0113101|en               |Four Rooms                    |It's Ted the Bellhop's first night on the job...and the hotel's very unusual guests are about to place him in some outrageous predicaments. It seems that this evening's room service is serving up one unbelievable happening after another.                                                                                                                                                                                                                   |9.026586  |/eQs5hh9rxrk1m4xHsIz1w11Ngqb.jpg|1995-12-09                      |4300000                                                        |98.0                                                      |Released|Twelve outrageous guests. Four scandalous requests. And one lone bellhop, in his first day on the job, who's in for the wildest New year's Eve of his life.|Four Rooms                              |False   |6.5                                                                           |539              |null                    |null                            |null                              |null                               |[80, 35]           |[Crime, Comedy]                   |[Miramax Films, A Band Apart]                                                                                                                                  |[14, 59]                                |[US]                           |[United States of America]                        |[en]                      |[English]                  |\n",
      "|9273 |False|30000000|null                                        |tt0112281|en               |Ace Ventura: When Nature Calls|Summoned from an ashram in Tibet, Ace finds himself on a perilous journey into the jungles of Africa to find Shikaka, the missing sacred animal of the friendly Wachati tribe. He must accomplish this before the wedding of the Wachati's Princess to the prince of the warrior Wachootoos. If Ace fails, the result will be a vicious tribal war.                                                                                                             |8.205448  |/wRlGnJhEzcxBjvWtvbjhDSU1cIY.jpg|1995-11-10                      |212385533                                                      |90.0                                                      |Released|New animals. New adventures. Same hair.                                                                                                                    |Ace Ventura: When Nature Calls          |False   |6.1                                                                           |1128             |[3167]                  |[Ace Ventura Collection]        |[/qCxH543pScFed1CycwJ1nVgrkOc.jpg]|[/bswWgdDsLu0fhWMYUzLF8XgiK4h.jpg] |[80, 35, 12]       |[Crime, Comedy, Adventure]        |[O Entertainment, Warner Bros., Morgan Creek Productions]                                                                                                      |[5682, 6194, 10210]                     |[US]                           |[United States of America]                        |[en]                      |[English]                  |\n",
      "|11517|False|60000000|null                                        |tt0113845|en               |Money Train                   |A vengeful New York transit cop decides to steal a trainload of subway fares; his foster brother, a fellow cop, tries to protect him.                                                                                                                                                                                                                                                                                                                           |7.337906  |/jSozzzVOR2kfXgTUuGnbgG2yRFi.jpg|1995-11-21                      |35431113                                                       |103.0                                                     |Released|Get on, or GET OUT THE WAY!                                                                                                                                |Money Train                             |False   |5.4                                                                           |224              |null                    |null                            |null                              |null                               |[28, 35, 80]       |[Action, Comedy, Crime]           |[Columbia Pictures]                                                                                                                                            |[5]                                     |[US]                           |[United States of America]                        |[en]                      |[English]                  |\n",
      "+-----+-----+--------+--------------------------------------------+---------+-----------------+------------------------------+----------------------------------------------------------------------------------------------------------------------------------------------------------------------------------------------------------------------------------------------------------------------------------------------------------------------------------------------------------------------------------------------------------------------------------------------------------------+----------+--------------------------------+--------------------------------+---------------------------------------------------------------+----------------------------------------------------------+--------+-----------------------------------------------------------------------------------------------------------------------------------------------------------+----------------------------------------+--------+------------------------------------------------------------------------------+-----------------+------------------------+--------------------------------+----------------------------------+-----------------------------------+-------------------+----------------------------------+---------------------------------------------------------------------------------------------------------------------------------------------------------------+----------------------------------------+-------------------------------+--------------------------------------------------+--------------------------+---------------------------+\n",
      "only showing top 20 rows\n",
      "\n"
     ]
    }
   ],
   "source": [
    "main()"
   ]
  },
  {
   "cell_type": "code",
   "execution_count": null,
   "id": "1592f791-d22d-408b-98dc-5f08e8e03c95",
   "metadata": {},
   "outputs": [],
   "source": []
  }
 ],
 "metadata": {
  "kernelspec": {
   "display_name": "Python 3 (ipykernel)",
   "language": "python",
   "name": "python3"
  },
  "language_info": {
   "codemirror_mode": {
    "name": "ipython",
    "version": 3
   },
   "file_extension": ".py",
   "mimetype": "text/x-python",
   "name": "python",
   "nbconvert_exporter": "python",
   "pygments_lexer": "ipython3",
   "version": "3.10.9"
  }
 },
 "nbformat": 4,
 "nbformat_minor": 5
}
